{
 "cells": [
  {
   "cell_type": "markdown",
   "id": "9138a2f9",
   "metadata": {},
   "source": [
    "# Building a Statically Type Forth-like DSL in Rust\n",
    "\n",
    "## Implement a type erased stack\n",
    "\n",
    "### Determine maximum alignment\n"
   ]
  },
  {
   "cell_type": "code",
   "execution_count": 100,
   "id": "e0f4d281",
   "metadata": {
    "vscode": {
     "languageId": "rust"
    }
   },
   "outputs": [],
   "source": [
    ":dep static_assertions = \"1.1.0\"\n",
    ":dep smallbox = \"0.8\"\n",
    "extern crate static_assertions;\n",
    "extern crate smallbox;"
   ]
  },
  {
   "cell_type": "code",
   "execution_count": 101,
   "id": "63807623",
   "metadata": {
    "vscode": {
     "languageId": "rust"
    }
   },
   "outputs": [
    {
     "data": {
      "text/plain": [
       "3"
      ]
     },
     "execution_count": 101,
     "metadata": {},
     "output_type": "execute_result"
    }
   ],
   "source": [
    "/// Return a mutable reference to the maximum argument. If there are multiple maximum \n",
    "/// arguments, the last one is returned.\n",
    "#[macro_export]\n",
    "macro_rules! max_mut {\n",
    "    ($x:expr) => (&mut $x);\n",
    "    ($x:expr, $($rest:expr),+) => {\n",
    "        {\n",
    "            let max_rest = max_mut!($($rest),+);\n",
    "            if *max_rest < $x {\n",
    "                &mut $x\n",
    "            } else {\n",
    "                max_rest\n",
    "            }\n",
    "        }\n",
    "    };\n",
    "}\n",
    "\n",
    "/// Return a reference to the maximum argument. If there are multiple maximum \n",
    "/// arguments, the last one is returned.\n",
    "#[macro_export]\n",
    "macro_rules! max {\n",
    "    ($x:expr) => (&$x);\n",
    "    ($x:expr, $($rest:expr),+) => {\n",
    "        {\n",
    "            let max_rest = max!($($rest),+);\n",
    "            if *max_rest < $x {\n",
    "                &$x\n",
    "            } else {\n",
    "                max_rest\n",
    "            }\n",
    "        }\n",
    "    };\n",
    "}\n",
    "\n",
    "max!(1, 2, 3)"
   ]
  },
  {
   "cell_type": "code",
   "execution_count": 102,
   "id": "bf8cc56a",
   "metadata": {
    "vscode": {
     "languageId": "rust"
    }
   },
   "outputs": [
    {
     "name": "stdout",
     "output_type": "stream",
     "text": [
      "max!(1, 2, 3): 3\n",
      "The maximum value is: 10\n",
      "c is now: 0\n"
     ]
    }
   ],
   "source": [
    "\n",
    "fn test() {\n",
    "    let a = 10;\n",
    "    let b = 1;\n",
    "    let c = 10;\n",
    "\n",
    "    let max_value = max!(a, b, c);\n",
    "    assert_eq!(max_value, &c);\n",
    "    println!(\"max!(1, 2, 3): {}\", max!(1, 2, 3)); // This will print 3\n",
    "    println!(\"The maximum value is: {}\", max_value);\n",
    "\n",
    "    let mut a = 10;\n",
    "    let mut b = 1;\n",
    "    let mut c = 10;\n",
    "\n",
    "    *max_mut!(a, b, c) = 0;\n",
    "    println!(\"c is now: {}\", c); // This will print 0\n",
    "}\n",
    "\n",
    "test();\n"
   ]
  },
  {
   "cell_type": "code",
   "execution_count": 103,
   "id": "c0138ae5",
   "metadata": {
    "vscode": {
     "languageId": "rust"
    }
   },
   "outputs": [
    {
     "data": {
      "text/plain": [
       "16"
      ]
     },
     "execution_count": 103,
     "metadata": {},
     "output_type": "execute_result"
    }
   ],
   "source": [
    "/// Returns the index of the maximum value in a slice of usize values. If there are multiple\n",
    "/// maximum values, the last one is returned.\n",
    "const fn max_pos_usize(arr: &[usize]) -> usize {\n",
    "    let mut max_index: usize = 0;\n",
    "    let mut i = 0;\n",
    "    while i < arr.len() {\n",
    "        if !(arr[i] < arr[max_index]) {\n",
    "            max_index = i;\n",
    "        }\n",
    "        i += 1;\n",
    "    }\n",
    "    max_index\n",
    "}\n",
    "\n",
    "/// Returns the maximum alignment of the primitive types. May not be the\n",
    "/// maximum possible alignment of all types.\n",
    "const fn max_align() -> usize {\n",
    "    *max!(align_of::<usize>(), align_of::<u128>(), align_of::<f64>())\n",
    "}\n",
    "\n",
    "max_align()"
   ]
  },
  {
   "cell_type": "code",
   "execution_count": 104,
   "id": "07283c18",
   "metadata": {
    "vscode": {
     "languageId": "rust"
    }
   },
   "outputs": [
    {
     "data": {
      "text/plain": [
       "true"
      ]
     },
     "execution_count": 104,
     "metadata": {},
     "output_type": "execute_result"
    }
   ],
   "source": [
    "#[macro_export]\n",
    "macro_rules! true_ {\n",
    "    ($msg:expr) => {\n",
    "        true\n",
    "    };\n",
    "}\n",
    "\n",
    "true_!(\"Hello, world!\")"
   ]
  },
  {
   "cell_type": "markdown",
   "id": "e13e5caa",
   "metadata": {},
   "source": [
    "### Static assert of a types alignment requirements are greater than `max_align()`\n"
   ]
  },
  {
   "cell_type": "code",
   "execution_count": 105,
   "id": "f969f743",
   "metadata": {
    "vscode": {
     "languageId": "rust"
    }
   },
   "outputs": [],
   "source": [
    "\n",
    "\n",
    "/// Static assert that the alignment of the type is less than or equal to the\n",
    "/// maximum alignment of the primitive types.\n",
    "#[macro_export]\n",
    "macro_rules! assert_alignable {\n",
    "    ($t:ty) => {\n",
    "        const _: () = {\n",
    "            static_assertions::const_assert!((std::mem::align_of::<$t>() <= max_align()) && true_!(\"Alignment of type is greater than maximum alignment of primitive types\"));\n",
    "        };\n",
    "    };\n",
    "}\n",
    "\n",
    "assert_alignable!(String);"
   ]
  },
  {
   "cell_type": "code",
   "execution_count": 106,
   "id": "be1e43ea",
   "metadata": {
    "vscode": {
     "languageId": "rust"
    }
   },
   "outputs": [
    {
     "data": {
      "text/plain": [
       "true"
      ]
     },
     "execution_count": 106,
     "metadata": {},
     "output_type": "execute_result"
    }
   ],
   "source": [
    "macro_rules! true_ {\n",
    "    ($_:expr) => {\n",
    "        true\n",
    "    };\n",
    "}\n",
    "\n",
    "true_!(\"Hello, world!\")"
   ]
  },
  {
   "cell_type": "markdown",
   "id": "b9ad3fbf",
   "metadata": {},
   "source": [
    "A stack that can old any type as raw bytes. Each value is aligned to the maximum alignment. The stack is type erased so to retrieve a value from the stack, the type must be known.\n"
   ]
  },
  {
   "cell_type": "code",
   "execution_count": 107,
   "id": "edb24a80",
   "metadata": {
    "vscode": {
     "languageId": "rust"
    }
   },
   "outputs": [
    {
     "name": "stdout",
     "output_type": "stream",
     "text": [
      "Popped value: 200\n",
      "Popped value: 100\n"
     ]
    }
   ],
   "source": [
    "use std::mem;\n",
    "\n",
    "pub struct RawStack {\n",
    "    buffer: Vec<u8>,\n",
    "}\n",
    "\n",
    "// Helper function to round up size to the next multiple of align.\n",
    "const fn padded_size(size: usize) -> usize {\n",
    "    const ALIGN : usize = max_align();\n",
    "    (size + ALIGN - 1) / ALIGN * ALIGN\n",
    "}\n",
    "\n",
    "impl RawStack {\n",
    "    pub fn new() -> Self {\n",
    "        RawStack {\n",
    "            buffer: Vec::new(),\n",
    "        }\n",
    "    }\n",
    "\n",
    "    // Push a value onto the stack. The value will be stored at an address aligned to max_align().\n",
    "    pub fn push<T>(&mut self, value: T) {\n",
    "        // REVISIT: This is a runtime check. Can we do this at compile time?\n",
    "        if max_align() < mem::align_of::<T>() {\n",
    "            panic!(\"Alignment of type is greater than maximum alignment of primitive types\");\n",
    "        }\n",
    "\n",
    "        let PADDED_SIZE = padded_size(mem::size_of::<T>());\n",
    "        self.buffer.resize(self.buffer.len() + PADDED_SIZE, 0u8);\n",
    "        let ptr = unsafe { self.buffer.as_mut_ptr().add(self.buffer.len() - PADDED_SIZE) as *mut T };\n",
    "        unsafe {\n",
    "            std::ptr::write(ptr, value);\n",
    "        }\n",
    "    }\n",
    "\n",
    "    // Pop a value from the stack.\n",
    "    // The caller must specify the expected type T.\n",
    "    pub fn pop<T>(&mut self) -> T {\n",
    "        let PADDED = padded_size(mem::size_of::<T>());\n",
    "\n",
    "        if self.buffer.len() < PADDED {\n",
    "            panic!(\"Stack underflow\");\n",
    "        }\n",
    "\n",
    "        let item_start = self.buffer.len() - PADDED;\n",
    "        let ptr = unsafe { self.buffer.as_ptr().add(item_start) as *const T };\n",
    "        let result = unsafe { std::ptr::read(ptr) };\n",
    "        self.buffer.truncate(item_start);\n",
    "        result\n",
    "    }\n",
    "}\n",
    "\n",
    "fn main() {\n",
    "    // Example usage:\n",
    "    let mut stack = RawStack::new();\n",
    "\n",
    "    // Push two u32 values\n",
    "    stack.push(100u32);\n",
    "    stack.push(200u32);\n",
    "\n",
    "    // Pop in LIFO order. The caller must know the type.\n",
    "    let value2: u32 = stack.pop();\n",
    "    println!(\"Popped value: {}\", value2); // prints 200\n",
    "\n",
    "    let value1: u32 = stack.pop();\n",
    "    println!(\"Popped value: {}\", value1); // prints 100\n",
    "}\n",
    "\n",
    "main();\n"
   ]
  },
  {
   "cell_type": "markdown",
   "id": "98941d28",
   "metadata": {},
   "source": [
    "A Vec of function pointers that take a raw stack and push and pop values from the stack, invoke a lambda, and push the result back onto the stack.\n"
   ]
  },
  {
   "cell_type": "code",
   "execution_count": 108,
   "id": "767d3e5f",
   "metadata": {
    "vscode": {
     "languageId": "rust"
    }
   },
   "outputs": [
    {
     "name": "stdout",
     "output_type": "stream",
     "text": [
      "result: 132\n"
     ]
    }
   ],
   "source": [
    "// pub type StackOperation = smallbox::SmallBox<dyn Fn(&mut RawStack), smallbox::space::S1>;\n",
    "pub type StackOperation = Box<dyn Fn(&mut RawStack)>;\n",
    "\n",
    "pub trait OperationPush0 {\n",
    "    fn push_op0<R, F>(&mut self, op: F)\n",
    "    where\n",
    "        F: Fn() -> R + 'static,\n",
    "        R: 'static;\n",
    "}\n",
    "\n",
    "impl OperationPush0 for Vec<StackOperation> {\n",
    "    fn push_op0<R, F>(&mut self, op: F)\n",
    "    where\n",
    "        F: Fn() -> R + 'static,\n",
    "        R: 'static,\n",
    "    {\n",
    "        self.push(Box::new(move |stack: &mut RawStack| {\n",
    "            let result = op();\n",
    "            stack.push(result);\n",
    "        }));\n",
    "    }\n",
    "}\n",
    "\n",
    "//\n",
    "pub trait OperationPush1 {\n",
    "    fn push_op1<T, R, F>(&mut self, op: F)\n",
    "    where\n",
    "        F: Fn(T) -> R + 'static,\n",
    "        T: 'static,\n",
    "        R: 'static;\n",
    "}\n",
    "\n",
    "impl OperationPush1 for Vec<StackOperation> {\n",
    "    fn push_op1<T, R, F>(&mut self, op: F)\n",
    "    where\n",
    "        F: Fn(T) -> R + 'static,\n",
    "        T: 'static,\n",
    "        R: 'static,\n",
    "    {\n",
    "        self.push(Box::new(move |stack: &mut RawStack| {\n",
    "            let x: T = stack.pop();\n",
    "            let result = op(x);\n",
    "            stack.push(result);\n",
    "        }));\n",
    "    }\n",
    "}\n",
    "\n",
    "// For binary functions.\n",
    "pub trait OperationPush2 {\n",
    "    fn push_op2<T, U, R, F>(&mut self, op: F)\n",
    "    where\n",
    "        F: Fn(T, U) -> R + 'static,\n",
    "        T: 'static,\n",
    "        U: 'static,\n",
    "        R: 'static;\n",
    "}\n",
    "\n",
    "impl OperationPush2 for Vec<StackOperation> {\n",
    "    fn push_op2<T, U, R, F>(&mut self, op: F)\n",
    "    where\n",
    "        F: Fn(T, U) -> R + 'static,\n",
    "        T: 'static,\n",
    "        U: 'static,\n",
    "        R: 'static,\n",
    "    {\n",
    "        self.push(Box::new(move |stack: &mut RawStack| {\n",
    "            // Pop in reverse order.\n",
    "            let y: U = stack.pop();\n",
    "            let x: T = stack.pop();\n",
    "            let result = op(x, y);\n",
    "            stack.push(result);\n",
    "        }));\n",
    "    }\n",
    "}\n",
    "\n",
    "// For ternary functions.\n",
    "pub trait OperationPush3 {\n",
    "    fn push_op3<T, U, V, R, F>(&mut self, op: F)\n",
    "    where\n",
    "        F: Fn(T, U, V) -> R + 'static,\n",
    "        T: 'static,\n",
    "        U: 'static,\n",
    "        V: 'static,\n",
    "        R: 'static;\n",
    "}\n",
    "\n",
    "impl OperationPush3 for Vec<StackOperation> {\n",
    "    fn push_op3<T, U, V, R, F>(&mut self, op: F)\n",
    "    where\n",
    "        F: Fn(T, U, V) -> R + 'static,\n",
    "        T: 'static,\n",
    "        U: 'static,\n",
    "        V: 'static,\n",
    "        R: 'static,\n",
    "    {\n",
    "        self.push(Box::new(move |stack: &mut RawStack| {\n",
    "            // Pop in reverse order.\n",
    "            let z: V = stack.pop();\n",
    "            let y: U = stack.pop();\n",
    "            let x: T = stack.pop();\n",
    "            let result = op(x, y, z);\n",
    "            stack.push(result);\n",
    "        }));\n",
    "    }\n",
    "}\n",
    "\n",
    "fn main() {\n",
    "    // Create a vector for stack operations.\n",
    "    let mut operations: Vec<StackOperation> = Vec::new();\n",
    "\n",
    "    // Add a binary operation (addition).\n",
    "    operations.push_op0(|| -> u32 { 30 });\n",
    "    operations.push_op0(|| -> u32 { 12 });\n",
    "    operations.push_op2(|x: u32, y: u32| -> u32 { x + y });\n",
    "    operations.push_op0(|| -> u32 { 100 });\n",
    "    operations.push_op0(|| -> u32 { 10 });\n",
    "    // Add a ternary operation (x + y - z).\n",
    "    operations.push_op3(|x: u32, y: u32, z: u32| -> u32 { x + y - z });\n",
    "    operations.push_op1(|x: u32| -> String { format!(\"result: {}\", x.to_string()) });\n",
    "\n",
    "    // Run the machine.\n",
    "    let mut stack = RawStack::new();\n",
    "    for op in operations {\n",
    "        op(&mut stack);\n",
    "    }\n",
    "    \n",
    "    let final_result: String = stack.pop();\n",
    "    println!(\"{}\", final_result);\n",
    "}\n",
    "\n",
    "main();"
   ]
  },
  {
   "cell_type": "code",
   "execution_count": 109,
   "id": "a5e6fcc6",
   "metadata": {
    "vscode": {
     "languageId": "rust"
    }
   },
   "outputs": [
    {
     "name": "stdout",
     "output_type": "stream",
     "text": [
      "result: 132\n"
     ]
    }
   ],
   "source": [
    "use std::any::TypeId;\n",
    "\n",
    "pub struct OperationStack {\n",
    "    pub ops: Vec<StackOperation>,\n",
    "    pub type_ids: Vec<TypeId>,\n",
    "}\n",
    "\n",
    "impl OperationStack {\n",
    "    pub fn new() -> Self {\n",
    "        OperationStack {\n",
    "            ops: Vec::new(),\n",
    "            type_ids: Vec::new(),\n",
    "        }\n",
    "    }\n",
    "\n",
    "    pub fn push_op0<R, F>(&mut self, op: F)\n",
    "    where\n",
    "        F: Fn() -> R + 'static,\n",
    "        R: 'static,\n",
    "    {\n",
    "        self.ops.push(Box::new(move |stack: &mut RawStack| {\n",
    "            let result = op();\n",
    "            stack.push(result);\n",
    "        }));\n",
    "        self.type_ids.push(TypeId::of::<R>());\n",
    "    }\n",
    "\n",
    "    pub fn push_op1<T, R, F>(&mut self, op: F)\n",
    "    where\n",
    "        F: Fn(T) -> R + 'static,\n",
    "        T: 'static,\n",
    "        R: 'static,\n",
    "    {\n",
    "        match self.type_ids.pop() {\n",
    "            Some(tid) if tid == TypeId::of::<T>() => {},\n",
    "            _ => panic!(\n",
    "                \"Type mismatch in push_op1: expected {}\",\n",
    "                std::any::type_name::<T>()\n",
    "            ),\n",
    "        }\n",
    "        self.ops.push(Box::new(move |stack: &mut RawStack| {\n",
    "            let x: T = stack.pop();\n",
    "            let result = op(x);\n",
    "            stack.push(result);\n",
    "        }));\n",
    "        self.type_ids.push(TypeId::of::<R>());\n",
    "    }\n",
    "\n",
    "    pub fn push_op2<T, U, R, F>(&mut self, op: F)\n",
    "    where\n",
    "        F: Fn(T, U) -> R + 'static,\n",
    "        T: 'static,\n",
    "        U: 'static,\n",
    "        R: 'static,\n",
    "    {\n",
    "        // Pop in reverse order: first the last argument U, then T.\n",
    "        match self.type_ids.pop() {\n",
    "            Some(tid) if tid == TypeId::of::<U>() => {},\n",
    "            _ => panic!(\n",
    "                \"Type mismatch in push_op2: expected {}\",\n",
    "                std::any::type_name::<U>()\n",
    "            ),\n",
    "        }\n",
    "        match self.type_ids.pop() {\n",
    "            Some(tid) if tid == TypeId::of::<T>() => {},\n",
    "            _ => panic!(\n",
    "                \"Type mismatch in push_op2: expected {}\",\n",
    "                std::any::type_name::<T>()\n",
    "            ),\n",
    "        }\n",
    "        self.ops.push(Box::new(move |stack: &mut RawStack| {\n",
    "            let y: U = stack.pop();\n",
    "            let x: T = stack.pop();\n",
    "            let result = op(x, y);\n",
    "            stack.push(result);\n",
    "        }));\n",
    "        self.type_ids.push(TypeId::of::<R>());\n",
    "    }\n",
    "\n",
    "    pub fn push_op3<T, U, V, R, F>(&mut self, op: F)\n",
    "    where\n",
    "        F: Fn(T, U, V) -> R + 'static,\n",
    "        T: 'static,\n",
    "        U: 'static,\n",
    "        V: 'static,\n",
    "        R: 'static,\n",
    "    {\n",
    "        // Pop in reverse order: first V, then U, then T.\n",
    "        match self.type_ids.pop() {\n",
    "            Some(tid) if tid == TypeId::of::<V>() => {},\n",
    "            _ => panic!(\n",
    "                \"Type mismatch in push_op3: expected {}\",\n",
    "                std::any::type_name::<V>()\n",
    "            ),\n",
    "        }\n",
    "        match self.type_ids.pop() {\n",
    "            Some(tid) if tid == TypeId::of::<U>() => {},\n",
    "            _ => panic!(\n",
    "                \"Type mismatch in push_op3: expected {}\",\n",
    "                std::any::type_name::<U>()\n",
    "            ),\n",
    "        }\n",
    "        match self.type_ids.pop() {\n",
    "            Some(tid) if tid == TypeId::of::<T>() => {},\n",
    "            _ => panic!(\n",
    "                \"Type mismatch in push_op3: expected {}\",\n",
    "                std::any::type_name::<T>()\n",
    "            ),\n",
    "        }\n",
    "        self.ops.push(Box::new(move |stack: &mut RawStack| {\n",
    "            let z: V = stack.pop();\n",
    "            let y: U = stack.pop();\n",
    "            let x: T = stack.pop();\n",
    "            let result = op(x, y, z);\n",
    "            stack.push(result);\n",
    "        }));\n",
    "        self.type_ids.push(TypeId::of::<R>());\n",
    "    }\n",
    "\n",
    "    pub fn run<T>(&mut self) -> T\n",
    "        where T: 'static \n",
    "    {\n",
    "        let mut stack = RawStack::new();\n",
    "        for op in self.ops.iter() {\n",
    "            op(&mut stack);\n",
    "        }\n",
    "        match self.type_ids.pop() {\n",
    "            Some(tid) if tid == TypeId::of::<T>() => {}\n",
    "            _ => {\n",
    "                panic!(\n",
    "                    \"Type mismatch in run: expected {}\", std::any::type_name::<T>());\n",
    "            }\n",
    "        }\n",
    "        if self.type_ids.len() != 0 {\n",
    "            panic!(\"Value(s) left on execution stack\");\n",
    "        }\n",
    "        stack.pop()\n",
    "    }\n",
    "}\n",
    "\n",
    "fn main() {\n",
    "    // Create a vector for stack operations.\n",
    "    let mut operations = OperationStack::new();\n",
    "\n",
    "    // Add a binary operation (addition).\n",
    "    operations.push_op0(|| -> u32 { 30 });\n",
    "    operations.push_op0(|| -> u32 { 12 });\n",
    "    operations.push_op2(|x: u32, y: u32| -> u32 { x + y });\n",
    "    operations.push_op0(|| -> u32 { 100 });\n",
    "    operations.push_op0(|| -> u32 { 10 });\n",
    "    // Add a ternary operation (x + y - z).\n",
    "    operations.push_op3(|x: u32, y: u32, z: u32| -> u32 { x + y - z });\n",
    "    operations.push_op1(|x: u32| -> String { format!(\"result: {}\", x.to_string()) });\n",
    "\n",
    "    let final_result: String = operations.run();\n",
    "    println!(\"{}\", final_result);\n",
    "}\n",
    "\n",
    "main();"
   ]
  },
  {
   "cell_type": "markdown",
   "id": "2b317b0a",
   "metadata": {},
   "source": [
    "A simple parser for the following grammar in Rust:\n",
    "\n",
    "```ebnf\n",
    "expression = number, {(\"+\" | \"-\"), number};\n",
    "number = digit, {digit};\n",
    "```\n"
   ]
  },
  {
   "cell_type": "code",
   "execution_count": 110,
   "id": "9795bf22",
   "metadata": {
    "vscode": {
     "languageId": "rust"
    }
   },
   "outputs": [
    {
     "name": "stdout",
     "output_type": "stream",
     "text": [
      "Result of \n",
      "        12 + 34\n",
      "     = 46\n"
     ]
    }
   ],
   "source": [
    "use std::iter::Peekable;\n",
    "use std::str::Chars;\n",
    "\n",
    "#[derive(Debug, PartialEq)]\n",
    "enum Token {\n",
    "    Number(i32),\n",
    "    Plus,\n",
    "    Minus,\n",
    "}\n",
    "\n",
    "struct Lexer<'a> {\n",
    "    input: Peekable<Chars<'a>>,\n",
    "}\n",
    "\n",
    "impl<'a> Lexer<'a> {\n",
    "    fn new(expr: &'a str) -> Self {\n",
    "        Lexer {\n",
    "            input: expr.chars().peekable(),\n",
    "        }\n",
    "    }\n",
    "\n",
    "    fn next_token(&mut self) -> Option<Token> {\n",
    "        self.skip_whitespace();\n",
    "        let ch = self.input.peek()?;\n",
    "        if ch.is_digit(10) {\n",
    "            return Some(Token::Number(self.next_number()));\n",
    "        }\n",
    "        match self.input.next()? {\n",
    "            '+' => Some(Token::Plus),\n",
    "            '-' => Some(Token::Minus),\n",
    "            _   => None,\n",
    "        }\n",
    "    }\n",
    "\n",
    "    fn next_number(&mut self) -> i32 {\n",
    "        let mut num_str = String::new();\n",
    "        while let Some(&ch) = self.input.peek() {\n",
    "            if ch.is_digit(10) {\n",
    "                num_str.push(ch);\n",
    "                self.input.next();\n",
    "            } else {\n",
    "                break;\n",
    "            }\n",
    "        }\n",
    "        num_str.parse().unwrap()\n",
    "    }\n",
    "\n",
    "    fn skip_whitespace(&mut self) {\n",
    "        while let Some(&ch) = self.input.peek() {\n",
    "            if ch.is_whitespace() {\n",
    "                self.input.next();\n",
    "            } else {\n",
    "                break;\n",
    "            }\n",
    "        }\n",
    "    }\n",
    "}\n",
    "\n",
    "struct Parser<'a> {\n",
    "    lexer: Lexer<'a>,\n",
    "    current_token: Option<Token>,\n",
    "    operations: OperationStack\n",
    "}\n",
    "\n",
    "impl<'a> Parser<'a> {\n",
    "    fn new(expr: &'a str) -> Self {\n",
    "        let mut lexer = Lexer::new(expr);\n",
    "        let current_token = lexer.next_token();\n",
    "        Parser { lexer, current_token, operations: OperationStack::new() }\n",
    "    }\n",
    "\n",
    "    fn parse_expression(&mut self) {\n",
    "        // Parse the left number.\n",
    "        let left = match self.current_token.take() {\n",
    "            Some(Token::Number(n)) => n,\n",
    "            _ => panic!(\"Expected a number at the beginning\"),\n",
    "        };\n",
    "\n",
    "        self.operations.push_op0(move || left);\n",
    "\n",
    "        // Get the optional operator.\n",
    "        let op = self.lexer.next_token();\n",
    "\n",
    "        // If there is an operator, parse the second number.\n",
    "        if let Some(tok) = op {\n",
    "            let right = match self.lexer.next_token() {\n",
    "                Some(Token::Number(n)) => n,\n",
    "                _ => panic!(\"Expected a number after operator\"),\n",
    "            };\n",
    "            self.operations.push_op0(move || right);\n",
    "\n",
    "            match tok {\n",
    "                Token::Plus => self.operations.push_op2(move |x: i32, y: i32| x + y),\n",
    "                Token::Minus => self.operations.push_op2(move |x: i32, y: i32| x - y),\n",
    "                _ => panic!(\"Unexpected token\"),\n",
    "            }\n",
    "        } \n",
    "    }\n",
    "\n",
    "    fn run<T>(&mut self) -> T\n",
    "        where T: 'static \n",
    "    {\n",
    "        self.operations.run()\n",
    "    }\n",
    "}\n",
    "\n",
    "fn main() {\n",
    "    let expr = r#\"\n",
    "        12 + 34\n",
    "    \"#;\n",
    "    let mut parser = Parser::new(expr);\n",
    "    parser.parse_expression();\n",
    "    let result: i32 = parser.run();\n",
    "    println!(\"Result of {} = {}\", expr, result);\n",
    "}\n",
    "\n",
    "main();"
   ]
  }
 ],
 "metadata": {
  "kernelspec": {
   "display_name": "Rust",
   "language": "rust",
   "name": "rust"
  },
  "language_info": {
   "codemirror_mode": "rust",
   "file_extension": ".rs",
   "mimetype": "text/rust",
   "name": "Rust",
   "pygment_lexer": "rust",
   "version": ""
  }
 },
 "nbformat": 4,
 "nbformat_minor": 5
}
