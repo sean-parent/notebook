{
 "cells": [
  {
   "cell_type": "markdown",
   "id": "9138a2f9",
   "metadata": {},
   "source": [
    "# Building a Statically Type Forth-like DSL in Rust\n",
    "\n",
    "## Dependencies\n"
   ]
  },
  {
   "cell_type": "code",
   "execution_count": 34,
   "id": "e0f4d281",
   "metadata": {
    "vscode": {
     "languageId": "rust"
    }
   },
   "outputs": [],
   "source": [
    ":dep static_assertions = \"1.1\"\n",
    ":dep aligned-vec = \"0.6\"\n",
    "// :dep smallbox = \"0.8\"\n",
    "\n",
    "extern crate static_assertions;\n",
    "extern crate aligned_vec;\n",
    "// extern crate smallbox;\n",
    "\n",
    "use aligned_vec::{ AVec, ConstAlign };"
   ]
  },
  {
   "cell_type": "markdown",
   "id": "eea10d49",
   "metadata": {},
   "source": [
    "### [Experiment] Open question on AVec implementation\n"
   ]
  },
  {
   "cell_type": "code",
   "execution_count": 35,
   "id": "e7e3b680",
   "metadata": {
    "vscode": {
     "languageId": "rust"
    }
   },
   "outputs": [],
   "source": [
    "let v = AVec::<u8, ConstAlign<4096>>::new(128); // what is the alignment?"
   ]
  },
  {
   "cell_type": "markdown",
   "id": "5478c925",
   "metadata": {},
   "source": [
    "### [Experiment] Unused macros for multi-argument max.\n"
   ]
  },
  {
   "cell_type": "code",
   "execution_count": 36,
   "id": "63807623",
   "metadata": {
    "vscode": {
     "languageId": "rust"
    }
   },
   "outputs": [
    {
     "data": {
      "text/plain": [
       "3"
      ]
     },
     "execution_count": 36,
     "metadata": {},
     "output_type": "execute_result"
    }
   ],
   "source": [
    "/// Return a mutable reference to the maximum argument. If there are multiple maximum \n",
    "/// arguments, the last one is returned.\n",
    "#[macro_export]\n",
    "macro_rules! max_mut {\n",
    "    ($x:expr) => (&mut $x);\n",
    "    ($x:expr, $($rest:expr),+) => {\n",
    "        {\n",
    "            let max_rest = max_mut!($($rest),+);\n",
    "            if *max_rest < $x {\n",
    "                &mut $x\n",
    "            } else {\n",
    "                max_rest\n",
    "            }\n",
    "        }\n",
    "    };\n",
    "}\n",
    "\n",
    "/// Return a reference to the maximum argument. If there are multiple maximum \n",
    "/// arguments, the last one is returned.\n",
    "#[macro_export]\n",
    "macro_rules! max {\n",
    "    ($x:expr) => (&$x);\n",
    "    ($x:expr, $($rest:expr),+) => {\n",
    "        {\n",
    "            let max_rest = max!($($rest),+);\n",
    "            if *max_rest < $x {\n",
    "                &$x\n",
    "            } else {\n",
    "                max_rest\n",
    "            }\n",
    "        }\n",
    "    };\n",
    "}\n",
    "\n",
    "max!(1, 2, 3)"
   ]
  },
  {
   "cell_type": "code",
   "execution_count": 37,
   "id": "bf8cc56a",
   "metadata": {
    "vscode": {
     "languageId": "rust"
    }
   },
   "outputs": [
    {
     "name": "stdout",
     "output_type": "stream",
     "text": [
      "max!(1, 2, 3): 3\n",
      "The maximum value is: 10\n",
      "c is now: 0\n"
     ]
    }
   ],
   "source": [
    "\n",
    "fn test() {\n",
    "    let a = 10;\n",
    "    let b = 1;\n",
    "    let c = 10;\n",
    "\n",
    "    let max_value = max!(a, b, c);\n",
    "    assert_eq!(max_value, &c);\n",
    "    println!(\"max!(1, 2, 3): {}\", max!(1, 2, 3)); // This will print 3\n",
    "    println!(\"The maximum value is: {}\", max_value);\n",
    "\n",
    "    let mut a = 10;\n",
    "    let mut b = 1;\n",
    "    let mut c = 10;\n",
    "\n",
    "    *max_mut!(a, b, c) = 0;\n",
    "    println!(\"c is now: {}\", c); // This will print 0\n",
    "}\n",
    "\n",
    "test();\n"
   ]
  },
  {
   "cell_type": "markdown",
   "id": "d25c49c5",
   "metadata": {},
   "source": [
    "### [Experiment] Unused const max_pos_usize and max_align() functions.\n"
   ]
  },
  {
   "cell_type": "code",
   "execution_count": 38,
   "id": "c0138ae5",
   "metadata": {
    "vscode": {
     "languageId": "rust"
    }
   },
   "outputs": [
    {
     "data": {
      "text/plain": [
       "16"
      ]
     },
     "execution_count": 38,
     "metadata": {},
     "output_type": "execute_result"
    }
   ],
   "source": [
    "/// Returns the index of the maximum value in a slice of usize values. If there are multiple\n",
    "/// maximum values, the last one is returned.\n",
    "const fn max_pos_usize(arr: &[usize]) -> usize {\n",
    "    let mut max_index: usize = 0;\n",
    "    let mut i = 0;\n",
    "    while i < arr.len() {\n",
    "        if !(arr[i] < arr[max_index]) {\n",
    "            max_index = i;\n",
    "        }\n",
    "        i += 1;\n",
    "    }\n",
    "    max_index\n",
    "}\n",
    "\n",
    "/// Returns the maximum alignment of the primitive types. May not be the\n",
    "/// maximum possible alignment of all types.\n",
    "const fn max_align() -> usize {\n",
    "    *max!(align_of::<usize>(), align_of::<u128>(), align_of::<f64>())\n",
    "}\n",
    "\n",
    "max_align()"
   ]
  },
  {
   "cell_type": "markdown",
   "id": "41411c34",
   "metadata": {},
   "source": [
    "### [Experiment] Unused true\\_!() macro to provide a message with static asserts.\n"
   ]
  },
  {
   "cell_type": "code",
   "execution_count": 39,
   "id": "07283c18",
   "metadata": {
    "vscode": {
     "languageId": "rust"
    }
   },
   "outputs": [
    {
     "data": {
      "text/plain": [
       "true"
      ]
     },
     "execution_count": 39,
     "metadata": {},
     "output_type": "execute_result"
    }
   ],
   "source": [
    "#[macro_export]\n",
    "macro_rules! true_ {\n",
    "    ($_:expr) => {\n",
    "        true\n",
    "    };\n",
    "}\n",
    "\n",
    "true_!(\"Hello, world!\")"
   ]
  },
  {
   "cell_type": "markdown",
   "id": "e13e5caa",
   "metadata": {},
   "source": [
    "### [Experiment] Static assert of a types alignment requirements are greater than `max_align()`\n"
   ]
  },
  {
   "cell_type": "code",
   "execution_count": 40,
   "id": "f969f743",
   "metadata": {
    "vscode": {
     "languageId": "rust"
    }
   },
   "outputs": [],
   "source": [
    "\n",
    "\n",
    "/// Static assert that the alignment of the type is less than or equal to the\n",
    "/// maximum alignment of the primitive types.\n",
    "#[macro_export]\n",
    "macro_rules! assert_alignable {\n",
    "    ($t:ty) => {\n",
    "        const _: () = {\n",
    "            static_assertions::const_assert!((std::mem::align_of::<$t>() <= max_align()) && true_!(\"Alignment of type is greater than maximum alignment of primitive types\"));\n",
    "        };\n",
    "    };\n",
    "}\n",
    "\n",
    "assert_alignable!(String);"
   ]
  },
  {
   "cell_type": "markdown",
   "id": "08f231a0",
   "metadata": {},
   "source": [
    "### [Experiment] Checking the alignment of an empty type.\n"
   ]
  },
  {
   "cell_type": "code",
   "execution_count": 41,
   "id": "19cd57bc",
   "metadata": {
    "vscode": {
     "languageId": "rust"
    }
   },
   "outputs": [
    {
     "data": {
      "text/plain": [
       "1"
      ]
     },
     "execution_count": 41,
     "metadata": {},
     "output_type": "execute_result"
    }
   ],
   "source": [
    "std::mem::align_of_val(&||{})"
   ]
  },
  {
   "cell_type": "markdown",
   "id": "79f866cc",
   "metadata": {},
   "source": [
    "### [Experiment] Checking how Vec::capacity, reserve, and set_len work and interact.\n"
   ]
  },
  {
   "cell_type": "code",
   "execution_count": 42,
   "id": "5fd75e7f",
   "metadata": {
    "vscode": {
     "languageId": "rust"
    }
   },
   "outputs": [
    {
     "name": "stdout",
     "output_type": "stream",
     "text": [
      "1, 4\n",
      "4, 4\n",
      "5, 8\n"
     ]
    }
   ],
   "source": [
    "let mut a = std::vec::Vec::<u32>::new();\n",
    "a.push(1);\n",
    "println!(\"{}, {}\", a.len(), a.capacity());\n",
    "a.push(2);\n",
    "a.push(3);\n",
    "a.push(4);\n",
    "println!(\"{}, {}\", a.len(), a.capacity());\n",
    "a.reserve(1);\n",
    "unsafe { a.set_len(5); }\n",
    "println!(\"{}, {}\", a.len(), a.capacity());\n"
   ]
  },
  {
   "cell_type": "markdown",
   "id": "b9ad3fbf",
   "metadata": {},
   "source": [
    "## RawStack\n",
    "\n",
    "A stack that can old any type as raw bytes. The stack is type erased so to retrieve a value from the stack, the type must be known.\n"
   ]
  },
  {
   "cell_type": "code",
   "execution_count": 43,
   "id": "edb24a80",
   "metadata": {
    "vscode": {
     "languageId": "rust"
    }
   },
   "outputs": [
    {
     "name": "stdout",
     "output_type": "stream",
     "text": [
      "Popped value: 200\n",
      "Popped value: 100\n"
     ]
    }
   ],
   "source": [
    "use std::mem;\n",
    "\n",
    "pub struct RawStack {\n",
    "    buffer: Vec<u8>,\n",
    "}\n",
    "\n",
    "impl RawStack {\n",
    "    pub fn new() -> Self {\n",
    "        RawStack {\n",
    "            buffer: Vec::with_capacity(4),\n",
    "        }\n",
    "    }\n",
    "\n",
    "    // Push a value onto the stack.\n",
    "    pub fn push<T>(&mut self, value: T) {\n",
    "        \n",
    "        let len = self.buffer.len();\n",
    "        self.buffer.reserve(size_of::<T>());\n",
    "        unsafe {\n",
    "            self.buffer.set_len(len + size_of::<T>());\n",
    "            std::ptr::write_unaligned(self.buffer.as_mut_ptr().add(len) as *mut T, value);\n",
    "        }\n",
    "    }\n",
    "\n",
    "    /**\n",
    "        Pop a value of type `T` from the stack.\n",
    "\n",
    "        # Safety\n",
    "\n",
    "        The type `T` must be the same type that is on top of the stack.\n",
    "    */\n",
    "    pub unsafe fn pop<T>(&mut self) -> T {\n",
    "        let p : usize = self.buffer.len() - size_of::<T>();\n",
    "        let result = unsafe { std::ptr::read(self.buffer.as_ptr().add(p) as *const T) };\n",
    "        self.buffer.truncate(p);\n",
    "        result\n",
    "    }\n",
    "}\n",
    "\n",
    "fn main() {\n",
    "    // Example usage:\n",
    "    let mut stack = RawStack::new();\n",
    "\n",
    "    // Push two u32 values\n",
    "    stack.push(100u32);\n",
    "    stack.push(200u32);\n",
    "\n",
    "    // Pop in LIFO order. The caller must know the type.\n",
    "    let value2: u32 = unsafe { stack.pop() };\n",
    "    println!(\"Popped value: {}\", value2); // prints 200\n",
    "\n",
    "    let value1: u32 = unsafe { stack.pop() };\n",
    "    println!(\"Popped value: {}\", value1); // prints 100\n",
    "}\n",
    "\n",
    "main();\n"
   ]
  },
  {
   "cell_type": "markdown",
   "id": "51f5c802",
   "metadata": {},
   "source": [
    "### [Experiment] Calculate the padded size of a `max_align()`ed type.\n"
   ]
  },
  {
   "cell_type": "code",
   "execution_count": 44,
   "id": "29463249",
   "metadata": {
    "vscode": {
     "languageId": "rust"
    }
   },
   "outputs": [],
   "source": [
    "// Helper function to round up size to the next multiple of align.\n",
    "const fn padded_size(size: usize) -> usize {\n",
    "    const ALIGN : usize = max_align();\n",
    "    (size + ALIGN - 1) & !(ALIGN - 1)\n",
    "}"
   ]
  },
  {
   "cell_type": "markdown",
   "id": "f23c6301",
   "metadata": {},
   "source": [
    "## RawSequence\n",
    "\n",
    "A raw sequence is a sequence of values of arbitrary types. New values can be pushed onto the sequence, the values can be iterated (by &Ts) to read and iterated to drop each value.\n",
    "To iterate the sequence or drop values, the type of the values must be known. Type information is not stored in the sequence.\n"
   ]
  },
  {
   "cell_type": "code",
   "execution_count": 45,
   "id": "e327a53a",
   "metadata": {
    "vscode": {
     "languageId": "rust"
    }
   },
   "outputs": [
    {
     "name": "stdout",
     "output_type": "stream",
     "text": [
      "100\n",
      "200\n",
      "42\n",
      "Hello, world!\n"
     ]
    }
   ],
   "source": [
    "use std::mem;\n",
    "use aligned_vec::{ AVec, ConstAlign };\n",
    "\n",
    "pub struct RawSequence {\n",
    "    buffer: AVec<u8, ConstAlign<4096>>,\n",
    "}\n",
    "\n",
    "const fn truncate_index(align: usize, index: usize) -> usize {\n",
    "    index & !(align - 1)\n",
    "}\n",
    "\n",
    "const fn align_index(align: usize, index: usize) -> usize {\n",
    "    truncate_index(align, index + align - 1)\n",
    "}\n",
    "\n",
    "impl RawSequence {\n",
    "    pub fn new() -> Self {\n",
    "        RawSequence {\n",
    "            buffer: AVec::new(4096),\n",
    "        }\n",
    "    }\n",
    "\n",
    "    // Push a value onto the stack. The value will be stored at an address aligned to max_align().\n",
    "    pub fn push<T>(&mut self, value: T) {\n",
    "        assert!(mem::align_of::<T>() <= 4096);\n",
    "        let len = self.buffer.len();\n",
    "        let aligned : usize = align_index(mem::align_of::<T>(), len);\n",
    "        let new_len = aligned + mem::size_of::<T>();\n",
    "\n",
    "        self.buffer.reserve(new_len - len);\n",
    "        unsafe {\n",
    "            self.buffer.set_len(new_len);\n",
    "            std::ptr::write(self.buffer.as_mut_ptr().add(aligned) as *mut T, value);\n",
    "        }\n",
    "    }\n",
    "\n",
    "    pub unsafe fn drop_in_place<T>(&mut self, p: usize) -> usize {\n",
    "        let aligned : usize = align_index(mem::align_of::<T>(), p);\n",
    "        unsafe { std::ptr::drop_in_place(self.buffer.as_ptr().add(aligned) as *mut T) };\n",
    "        aligned + mem::size_of::<T>()\n",
    "    }\n",
    "\n",
    "    pub unsafe fn next<T>(&self, p: usize) -> (&T, usize) {\n",
    "        let aligned : usize = align_index(mem::align_of::<T>(), p);\n",
    "        let ptr = unsafe { self.buffer.as_ptr().add(aligned) as *const T };\n",
    "        unsafe {(&*ptr, aligned + mem::size_of::<T>())}\n",
    "    }\n",
    "}\n",
    "\n",
    "fn main() {\n",
    "    // Example usage:\n",
    "    let mut stack = RawSequence::new();\n",
    "\n",
    "    stack.push(100u32);\n",
    "    stack.push(200u32);\n",
    "    stack.push(42.0f64);\n",
    "    stack.push(\"Hello, world!\");\n",
    "\n",
    "    let (value, p) = unsafe { stack.next::<u32>(0) };\n",
    "    println!(\"{}\", value);\n",
    "    let (value, p) = unsafe { stack.next::<u32>(p) };\n",
    "    println!(\"{}\", value);\n",
    "    let (value, p) = unsafe { stack.next::<f64>(p) };\n",
    "    println!(\"{}\", value);\n",
    "    let (value, _) = unsafe { stack.next::<&str>(p) };\n",
    "    println!(\"{}\", value);\n",
    "\n",
    "\n",
    "    let p = unsafe { stack.drop_in_place::<u32>(0) };\n",
    "    let p = unsafe { stack.drop_in_place::<u32>(p) };\n",
    "    let p = unsafe { stack.drop_in_place::<f64>(p) };\n",
    "    let _ = unsafe { stack.drop_in_place::<&str>(p) };\n",
    "}\n",
    "\n",
    "main();\n"
   ]
  },
  {
   "cell_type": "markdown",
   "id": "98941d28",
   "metadata": {},
   "source": [
    "## Segment\n",
    "\n",
    "A segment is a sequence of operations that can be executed.\n"
   ]
  },
  {
   "cell_type": "code",
   "execution_count": 46,
   "id": "1c283264",
   "metadata": {
    "vscode": {
     "languageId": "rust"
    }
   },
   "outputs": [
    {
     "name": "stdout",
     "output_type": "stream",
     "text": [
      "result: 132\n"
     ]
    }
   ],
   "source": [
    "use std::any::TypeId;\n",
    "\n",
    "pub type Operation = fn(&RawSequence, usize, &mut RawStack) -> usize;\n",
    "\n",
    "pub struct Segment {\n",
    "    ops: Vec<Operation>,\n",
    "    storage: RawSequence,\n",
    "    dropper: Vec<fn(&mut RawSequence, usize) -> usize>,\n",
    "    type_ids: Vec<TypeId>,\n",
    "}\n",
    "\n",
    "impl Segment {\n",
    "    pub fn new() -> Self {\n",
    "        Segment {\n",
    "            ops: Vec::new(),\n",
    "            storage: RawSequence::new(),\n",
    "            dropper: Vec::new(),\n",
    "            type_ids: Vec::new(),\n",
    "        }\n",
    "    }\n",
    "\n",
    "    fn pop_type<T>(&mut self)\n",
    "    where\n",
    "        T: 'static,\n",
    "    {\n",
    "        match self.type_ids.pop() {\n",
    "            Some(tid) if tid == TypeId::of::<T>() => {}\n",
    "            _ => {\n",
    "                panic!(\n",
    "                    \"Type mismatch: expected {}\", std::any::type_name::<T>());\n",
    "            }\n",
    "        }\n",
    "    }\n",
    "\n",
    "    fn push_storage<T>(&mut self, value: T)\n",
    "    where\n",
    "        T: 'static,\n",
    "    {\n",
    "        self.storage.push(value);\n",
    "        self.dropper.push(|storage, p| {\n",
    "            unsafe { storage.drop_in_place::<T>(p) }\n",
    "        });\n",
    "    }\n",
    "\n",
    "    pub fn push_op0<R, F>(&mut self, op: F)\n",
    "    where\n",
    "        F: Fn() -> R + 'static,\n",
    "        R: 'static,\n",
    "    {\n",
    "        self.push_storage(op);\n",
    "        self.ops.push(|storage, p, stack| {\n",
    "            let (f, r) = unsafe { storage.next::<F>(p) };\n",
    "            stack.push(f());\n",
    "            r\n",
    "        });\n",
    "        self.type_ids.push(TypeId::of::<R>());\n",
    "    }\n",
    "\n",
    "    pub fn push_op1<T, R, F>(&mut self, op: F)\n",
    "    where\n",
    "        F: Fn(T) -> R + 'static,\n",
    "        T: 'static,\n",
    "        R: 'static,\n",
    "    {\n",
    "        self.pop_type::<T>();\n",
    "        self.push_storage(op);\n",
    "        self.ops.push(|storage, p, stack| {\n",
    "            let (f, r) = unsafe { storage.next::<F>(p) };\n",
    "            let x: T = unsafe { stack.pop() };\n",
    "            stack.push(f(x));\n",
    "            r\n",
    "        });\n",
    "        self.type_ids.push(TypeId::of::<R>());\n",
    "    }\n",
    "\n",
    "    pub fn push_op2<T, U, R, F>(&mut self, op: F)\n",
    "    where\n",
    "        F: Fn(T, U) -> R + 'static,\n",
    "        T: 'static,\n",
    "        U: 'static,\n",
    "        R: 'static,\n",
    "    {\n",
    "        self.pop_type::<U>();\n",
    "        self.pop_type::<T>();\n",
    "        self.push_storage(op);\n",
    "        self.ops.push(|storage, p, stack| {\n",
    "            let (f, r) = unsafe { storage.next::<F>(p) };\n",
    "            let y: U = unsafe { stack.pop() };\n",
    "            let x: T = unsafe { stack.pop() };\n",
    "            stack.push(f(x, y));\n",
    "            r\n",
    "        });\n",
    "        self.type_ids.push(TypeId::of::<R>());\n",
    "    }\n",
    "\n",
    "    pub fn push_op3<T, U, V, R, F>(&mut self, op: F)\n",
    "    where\n",
    "        F: Fn(T, U, V) -> R + 'static,\n",
    "        T: 'static,\n",
    "        U: 'static,\n",
    "        V: 'static,\n",
    "        R: 'static,\n",
    "    {\n",
    "        self.pop_type::<V>();\n",
    "        self.pop_type::<U>();\n",
    "        self.pop_type::<T>();\n",
    "        self.push_storage(op);\n",
    "        self.ops.push(|storage, p, stack| {\n",
    "            let (f, r) = unsafe { storage.next::<F>(p) };\n",
    "            let z: V = unsafe { stack.pop() };\n",
    "            let y: U = unsafe { stack.pop() };\n",
    "            let x: T = unsafe { stack.pop() };\n",
    "            stack.push(f(x, y, z));\n",
    "            r\n",
    "        });\n",
    "        self.type_ids.push(TypeId::of::<R>());\n",
    "    }\n",
    "\n",
    "    pub fn drop(&mut self) {\n",
    "        let mut p = 0;\n",
    "        for e in self.dropper.iter() {\n",
    "            p = e(&mut self.storage, p);\n",
    "        }\n",
    "        assert!(self.storage.buffer.len() == 0, \"Storage not empty\");\n",
    "    }\n",
    "\n",
    "    pub fn run<T>(&mut self) -> T\n",
    "        where T: 'static \n",
    "    {\n",
    "        self.pop_type::<T>();\n",
    "        if self.type_ids.len() != 0 {\n",
    "            panic!(\"Value(s) left on execution stack\");\n",
    "        }\n",
    "\n",
    "        let mut stack = RawStack::new();\n",
    "        let mut p = 0;\n",
    "        for op in self.ops.iter() {\n",
    "            p = op(&self.storage, p, &mut stack);\n",
    "        }\n",
    "        unsafe { stack.pop() }\n",
    "    }\n",
    "}\n",
    "\n",
    "fn main() {\n",
    "    // Create a vector for stack operations.\n",
    "    let mut operations = Segment::new();\n",
    "\n",
    "    // Add a binary operation (addition).\n",
    "    operations.push_op0(|| -> u32 { 30 });\n",
    "    operations.push_op0(|| -> u32 { 12 });\n",
    "    operations.push_op2(|x: u32, y: u32| -> u32 { x + y });\n",
    "    operations.push_op0(|| -> u32 { 100 });\n",
    "    operations.push_op0(|| -> u32 { 10 });\n",
    "    // Add a ternary operation (x + y - z).\n",
    "    operations.push_op3(|x: u32, y: u32, z: u32| -> u32 { x + y - z });\n",
    "    operations.push_op1(|x: u32| -> String { format!(\"result: {}\", x.to_string()) });\n",
    "\n",
    "    let final_result: String = operations.run();\n",
    "    println!(\"{}\", final_result);\n",
    "}\n",
    "\n",
    "main();"
   ]
  },
  {
   "cell_type": "markdown",
   "id": "2b317b0a",
   "metadata": {},
   "source": [
    "A simple parser for the following grammar in Rust:\n",
    "\n",
    "```ebnf\n",
    "expression = number, {(\"+\" | \"-\"), number};\n",
    "number = digit, {digit};\n",
    "```\n"
   ]
  },
  {
   "cell_type": "code",
   "execution_count": 47,
   "id": "9795bf22",
   "metadata": {
    "vscode": {
     "languageId": "rust"
    }
   },
   "outputs": [
    {
     "name": "stdout",
     "output_type": "stream",
     "text": [
      "Result of \n",
      "        12 + 34\n",
      "     = 46\n"
     ]
    }
   ],
   "source": [
    "use std::iter::Peekable;\n",
    "use std::str::Chars;\n",
    "\n",
    "#[derive(Debug, PartialEq)]\n",
    "enum Token {\n",
    "    Number(i32),\n",
    "    Plus,\n",
    "    Minus,\n",
    "}\n",
    "\n",
    "struct Lexer<'a> {\n",
    "    input: Peekable<Chars<'a>>,\n",
    "}\n",
    "\n",
    "impl<'a> Lexer<'a> {\n",
    "    fn new(expr: &'a str) -> Self {\n",
    "        Lexer {\n",
    "            input: expr.chars().peekable(),\n",
    "        }\n",
    "    }\n",
    "\n",
    "    fn next_token(&mut self) -> Option<Token> {\n",
    "        self.skip_whitespace();\n",
    "        let ch = self.input.peek()?;\n",
    "        if ch.is_digit(10) {\n",
    "            return Some(Token::Number(self.next_number()));\n",
    "        }\n",
    "        match self.input.next()? {\n",
    "            '+' => Some(Token::Plus),\n",
    "            '-' => Some(Token::Minus),\n",
    "            _   => None,\n",
    "        }\n",
    "    }\n",
    "\n",
    "    fn next_number(&mut self) -> i32 {\n",
    "        let mut num_str = String::new();\n",
    "        while let Some(&ch) = self.input.peek() {\n",
    "            if ch.is_digit(10) {\n",
    "                num_str.push(ch);\n",
    "                self.input.next();\n",
    "            } else {\n",
    "                break;\n",
    "            }\n",
    "        }\n",
    "        num_str.parse().unwrap()\n",
    "    }\n",
    "\n",
    "    fn skip_whitespace(&mut self) {\n",
    "        while let Some(&ch) = self.input.peek() {\n",
    "            if ch.is_whitespace() {\n",
    "                self.input.next();\n",
    "            } else {\n",
    "                break;\n",
    "            }\n",
    "        }\n",
    "    }\n",
    "}\n",
    "\n",
    "struct Parser<'a> {\n",
    "    lexer: Lexer<'a>,\n",
    "    current_token: Option<Token>,\n",
    "    operations: Segment\n",
    "}\n",
    "\n",
    "impl<'a> Parser<'a> {\n",
    "    fn new(expr: &'a str) -> Self {\n",
    "        let mut lexer = Lexer::new(expr);\n",
    "        let current_token = lexer.next_token();\n",
    "        Parser { lexer, current_token, operations: Segment::new() }\n",
    "    }\n",
    "\n",
    "    fn parse_expression(&mut self) {\n",
    "        // Parse the left number.\n",
    "        let left = match self.current_token.take() {\n",
    "            Some(Token::Number(n)) => n,\n",
    "            _ => panic!(\"Expected a number at the beginning\"),\n",
    "        };\n",
    "\n",
    "        self.operations.push_op0(move || left);\n",
    "\n",
    "        // Get the optional operator.\n",
    "        let op = self.lexer.next_token();\n",
    "\n",
    "        // If there is an operator, parse the second number.\n",
    "        if let Some(tok) = op {\n",
    "            let right = match self.lexer.next_token() {\n",
    "                Some(Token::Number(n)) => n,\n",
    "                _ => panic!(\"Expected a number after operator\"),\n",
    "            };\n",
    "            self.operations.push_op0(move || right);\n",
    "\n",
    "            match tok {\n",
    "                Token::Plus => self.operations.push_op2(move |x: i32, y: i32| x + y),\n",
    "                Token::Minus => self.operations.push_op2(move |x: i32, y: i32| x - y),\n",
    "                _ => panic!(\"Unexpected token\"),\n",
    "            }\n",
    "        } \n",
    "    }\n",
    "\n",
    "    fn run<T>(&mut self) -> T\n",
    "        where T: 'static \n",
    "    {\n",
    "        self.operations.run()\n",
    "    }\n",
    "}\n",
    "\n",
    "fn main() {\n",
    "    let expr = r#\"\n",
    "        12 + 34\n",
    "    \"#;\n",
    "    let mut parser = Parser::new(expr);\n",
    "    parser.parse_expression();\n",
    "    let result: i32 = parser.run();\n",
    "    println!(\"Result of {} = {}\", expr, result);\n",
    "}\n",
    "\n",
    "main();"
   ]
  },
  {
   "cell_type": "code",
   "execution_count": 48,
   "id": "ff0a25ec",
   "metadata": {
    "vscode": {
     "languageId": "rust"
    }
   },
   "outputs": [
    {
     "name": "stdout",
     "output_type": "stream",
     "text": [
      "Hello, world! i32\n",
      "Closure size = 0\n"
     ]
    }
   ],
   "source": [
    "struct VTable<T> {\n",
    "    value: T,\n",
    "}\n",
    "\n",
    "impl<T> VTable<T> {\n",
    "    fn new(value: T) -> Self {\n",
    "        VTable {\n",
    "            value: value,\n",
    "        }\n",
    "    }\n",
    "    pub const INVOKE: fn () = || {\n",
    "        println!(\"Hello, world! {}\", std::any::type_name::<T>());\n",
    "    };\n",
    "}\n",
    "\n",
    "fn main() {\n",
    "    let fp: fn() = VTable::<i32>::INVOKE;\n",
    "    fp();\n",
    "\n",
    "    let captured_closure = || println!(\"Testing\");\n",
    "\n",
    "    // Measure the size of the closure’s capture state.\n",
    "    let size = std::mem::size_of_val(&captured_closure);\n",
    "    println!(\"Closure size = {}\", size);\n",
    "}\n",
    "\n",
    "main();"
   ]
  }
 ],
 "metadata": {
  "kernelspec": {
   "display_name": "Rust",
   "language": "rust",
   "name": "rust"
  },
  "language_info": {
   "codemirror_mode": "rust",
   "file_extension": ".rs",
   "mimetype": "text/rust",
   "name": "Rust",
   "pygment_lexer": "rust",
   "version": ""
  }
 },
 "nbformat": 4,
 "nbformat_minor": 5
}
