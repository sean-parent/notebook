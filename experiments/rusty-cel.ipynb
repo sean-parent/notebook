{
 "cells": [
  {
   "cell_type": "markdown",
   "id": "9138a2f9",
   "metadata": {},
   "source": [
    "# Building a Statically Type Forth-like DSL in Rust\n",
    "\n",
    "## Dependencies\n"
   ]
  },
  {
   "cell_type": "code",
   "execution_count": 2,
   "id": "e0f4d281",
   "metadata": {
    "vscode": {
     "languageId": "rust"
    }
   },
   "outputs": [],
   "source": [
    ":dep static_assertions = \"1.1\"\n",
    ":dep aligned-vec = \"0.6\"\n",
    "// :dep smallbox = \"0.8\"\n",
    "\n",
    "extern crate static_assertions;\n",
    "extern crate aligned_vec;\n",
    "// extern crate smallbox;\n",
    "\n",
    "use aligned_vec::{ AVec, ConstAlign };\n"
   ]
  },
  {
   "cell_type": "markdown",
   "id": "eea10d49",
   "metadata": {},
   "source": [
    "### [Experiment] Open question on AVec implementation\n"
   ]
  },
  {
   "cell_type": "code",
   "execution_count": 3,
   "id": "e7e3b680",
   "metadata": {
    "vscode": {
     "languageId": "rust"
    }
   },
   "outputs": [],
   "source": [
    "let v = AVec::<u8, ConstAlign<4096>>::new(128); // what is the alignment?\n"
   ]
  },
  {
   "cell_type": "markdown",
   "id": "5478c925",
   "metadata": {},
   "source": [
    "### [Experiment] Unused macros for multi-argument max.\n"
   ]
  },
  {
   "cell_type": "code",
   "execution_count": 4,
   "id": "63807623",
   "metadata": {
    "vscode": {
     "languageId": "rust"
    }
   },
   "outputs": [
    {
     "data": {
      "text/plain": [
       "3"
      ]
     },
     "execution_count": 4,
     "metadata": {},
     "output_type": "execute_result"
    }
   ],
   "source": [
    "/// Return a mutable reference to the maximum argument. If there are multiple maximum \n",
    "/// arguments, the last one is returned.\n",
    "#[macro_export]\n",
    "macro_rules! max_mut {\n",
    "    ($x:expr) => (&mut $x);\n",
    "    ($x:expr, $($rest:expr),+) => {\n",
    "        {\n",
    "            let max_rest = max_mut!($($rest),+);\n",
    "            if *max_rest < $x {\n",
    "                &mut $x\n",
    "            } else {\n",
    "                max_rest\n",
    "            }\n",
    "        }\n",
    "    };\n",
    "}\n",
    "\n",
    "/// Return a reference to the maximum argument. If there are multiple maximum \n",
    "/// arguments, the last one is returned.\n",
    "#[macro_export]\n",
    "macro_rules! max {\n",
    "    ($x:expr) => (&$x);\n",
    "    ($x:expr, $($rest:expr),+) => {\n",
    "        {\n",
    "            let max_rest = max!($($rest),+);\n",
    "            if *max_rest < $x {\n",
    "                &$x\n",
    "            } else {\n",
    "                max_rest\n",
    "            }\n",
    "        }\n",
    "    };\n",
    "}\n",
    "\n",
    "max!(1, 2, 3)\n"
   ]
  },
  {
   "cell_type": "code",
   "execution_count": 5,
   "id": "bf8cc56a",
   "metadata": {
    "vscode": {
     "languageId": "rust"
    }
   },
   "outputs": [
    {
     "name": "stdout",
     "output_type": "stream",
     "text": [
      "max!(1, 2, 3): 3\n",
      "The maximum value is: 10\n",
      "c is now: 0\n"
     ]
    }
   ],
   "source": [
    "\n",
    "fn test() {\n",
    "    let a = 10;\n",
    "    let b = 1;\n",
    "    let c = 10;\n",
    "\n",
    "    let max_value = max!(a, b, c);\n",
    "    assert_eq!(max_value, &c);\n",
    "    println!(\"max!(1, 2, 3): {}\", max!(1, 2, 3)); // This will print 3\n",
    "    println!(\"The maximum value is: {}\", max_value);\n",
    "\n",
    "    let mut a = 10;\n",
    "    let mut b = 1;\n",
    "    let mut c = 10;\n",
    "\n",
    "    *max_mut!(a, b, c) = 0;\n",
    "    println!(\"c is now: {}\", c); // This will print 0\n",
    "}\n",
    "\n",
    "test();\n"
   ]
  },
  {
   "cell_type": "markdown",
   "id": "d25c49c5",
   "metadata": {},
   "source": [
    "### [Experiment] Unused const max_pos_usize and max_align() functions.\n"
   ]
  },
  {
   "cell_type": "code",
   "execution_count": 6,
   "id": "c0138ae5",
   "metadata": {
    "vscode": {
     "languageId": "rust"
    }
   },
   "outputs": [
    {
     "data": {
      "text/plain": [
       "16"
      ]
     },
     "execution_count": 6,
     "metadata": {},
     "output_type": "execute_result"
    }
   ],
   "source": [
    "/// Returns the index of the maximum value in a slice of usize values. If there are multiple\n",
    "/// maximum values, the last one is returned.\n",
    "const fn max_pos_usize(arr: &[usize]) -> usize {\n",
    "    let mut max_index: usize = 0;\n",
    "    let mut i = 0;\n",
    "    while i < arr.len() {\n",
    "        if !(arr[i] < arr[max_index]) {\n",
    "            max_index = i;\n",
    "        }\n",
    "        i += 1;\n",
    "    }\n",
    "    max_index\n",
    "}\n",
    "\n",
    "/// Returns the maximum alignment of the primitive types. May not be the\n",
    "/// maximum possible alignment of all types.\n",
    "const fn max_align() -> usize {\n",
    "    *max!(align_of::<usize>(), align_of::<u128>(), align_of::<f64>())\n",
    "}\n",
    "\n",
    "max_align()\n"
   ]
  },
  {
   "cell_type": "markdown",
   "id": "41411c34",
   "metadata": {},
   "source": [
    "### [Experiment] Unused true\\_!() macro to provide a message with static asserts.\n"
   ]
  },
  {
   "cell_type": "code",
   "execution_count": 7,
   "id": "07283c18",
   "metadata": {
    "vscode": {
     "languageId": "rust"
    }
   },
   "outputs": [
    {
     "data": {
      "text/plain": [
       "true"
      ]
     },
     "execution_count": 7,
     "metadata": {},
     "output_type": "execute_result"
    }
   ],
   "source": [
    "#[macro_export]\n",
    "macro_rules! true_ {\n",
    "    ($_:expr) => {\n",
    "        true\n",
    "    };\n",
    "}\n",
    "\n",
    "true_!(\"Hello, world!\")\n"
   ]
  },
  {
   "cell_type": "markdown",
   "id": "e13e5caa",
   "metadata": {},
   "source": [
    "### [Experiment] Static assert of a types alignment requirements are greater than `max_align()`\n"
   ]
  },
  {
   "cell_type": "code",
   "execution_count": 8,
   "id": "f969f743",
   "metadata": {
    "vscode": {
     "languageId": "rust"
    }
   },
   "outputs": [],
   "source": [
    "\n",
    "\n",
    "/// Static assert that the alignment of the type is less than or equal to the\n",
    "/// maximum alignment of the primitive types.\n",
    "#[macro_export]\n",
    "macro_rules! assert_alignable {\n",
    "    ($t:ty) => {\n",
    "        const _: () = {\n",
    "            static_assertions::const_assert!((std::mem::align_of::<$t>() <= max_align()) && true_!(\"Alignment of type is greater than maximum alignment of primitive types\"));\n",
    "        };\n",
    "    };\n",
    "}\n",
    "\n",
    "assert_alignable!(String);\n"
   ]
  },
  {
   "cell_type": "markdown",
   "id": "08f231a0",
   "metadata": {},
   "source": [
    "### [Experiment] Checking the alignment of an empty type.\n"
   ]
  },
  {
   "cell_type": "code",
   "execution_count": 9,
   "id": "19cd57bc",
   "metadata": {
    "vscode": {
     "languageId": "rust"
    }
   },
   "outputs": [
    {
     "data": {
      "text/plain": [
       "1"
      ]
     },
     "execution_count": 9,
     "metadata": {},
     "output_type": "execute_result"
    }
   ],
   "source": [
    "std::mem::align_of_val(&||{})\n"
   ]
  },
  {
   "cell_type": "markdown",
   "id": "79f866cc",
   "metadata": {},
   "source": [
    "### [Experiment] Checking how Vec::capacity, reserve, and set_len work and interact.\n"
   ]
  },
  {
   "cell_type": "code",
   "execution_count": 10,
   "id": "5fd75e7f",
   "metadata": {
    "vscode": {
     "languageId": "rust"
    }
   },
   "outputs": [
    {
     "name": "stdout",
     "output_type": "stream",
     "text": [
      "1, 4\n",
      "4, 4\n",
      "5, 8\n"
     ]
    }
   ],
   "source": [
    "let mut a = std::vec::Vec::<u32>::new();\n",
    "a.push(1);\n",
    "println!(\"{}, {}\", a.len(), a.capacity());\n",
    "a.push(2);\n",
    "a.push(3);\n",
    "a.push(4);\n",
    "println!(\"{}, {}\", a.len(), a.capacity());\n",
    "a.reserve(1);\n",
    "unsafe { a.set_len(5); }\n",
    "println!(\"{}, {}\", a.len(), a.capacity());\n"
   ]
  },
  {
   "cell_type": "markdown",
   "id": "b9ad3fbf",
   "metadata": {},
   "source": [
    "## RawStack\n",
    "\n",
    "A stack that can old any type as raw bytes. The stack is type erased so to retrieve a value from the stack, the type must be known.\n"
   ]
  },
  {
   "cell_type": "code",
   "execution_count": 11,
   "id": "edb24a80",
   "metadata": {
    "vscode": {
     "languageId": "rust"
    }
   },
   "outputs": [
    {
     "name": "stdout",
     "output_type": "stream",
     "text": [
      "Popped value: 200\n",
      "Popped value: 100\n"
     ]
    }
   ],
   "source": [
    "use std::mem;\n",
    "use std::mem::size_of;\n",
    "\n",
    "/// A simple raw stack that stores values as raw bytes.\n",
    "///\n",
    "/// `RawStack` allows pushing values of any type into a byte buffer and retrieving\n",
    "/// them manually. The retrieval (`pop`) operation is unsafe and requires the caller\n",
    "/// to ensure that the type parameter matches the value at the top of the stack.\n",
    "pub struct RawStack {\n",
    "    buffer: Vec<u8>,\n",
    "}\n",
    "\n",
    "impl RawStack {\n",
    "    /// Creates a new `RawStack` with an initial capacity.\n",
    "    ///\n",
    "    /// # Examples\n",
    "    ///\n",
    "    /// ```\n",
    "    /// let stack = RawStack::new();\n",
    "    /// ```\n",
    "    pub fn new() -> Self {\n",
    "        RawStack {\n",
    "            buffer: Vec::with_capacity(4),\n",
    "        }\n",
    "    }\n",
    "\n",
    "    /// Pushes a value of type `T` onto the stack.\n",
    "    ///\n",
    "    /// The value is stored as raw bytes in the internal buffer. The pushed value must be\n",
    "    /// later popped using the correct type.\n",
    "    ///\n",
    "    /// # Type Parameters\n",
    "    ///\n",
    "    /// * `T`: The type of the value to push.\n",
    "    ///\n",
    "    /// # Examples\n",
    "    ///\n",
    "    /// ```\n",
    "    /// let mut stack = RawStack::new();\n",
    "    /// stack.push(42u32);\n",
    "    /// ```\n",
    "    pub fn push<T>(&mut self, value: T) {\n",
    "        let len = self.buffer.len();\n",
    "        self.buffer.reserve(size_of::<T>());\n",
    "        unsafe {\n",
    "            self.buffer.set_len(len + size_of::<T>());\n",
    "            std::ptr::write_unaligned(\n",
    "                self.buffer.as_mut_ptr().add(len) as *mut T,\n",
    "                value,\n",
    "            );\n",
    "        }\n",
    "    }\n",
    "\n",
    "    /// Pops a value of type `T` from the stack.\n",
    "    ///\n",
    "    /// # Safety\n",
    "    ///\n",
    "    /// The type `T` must be the same as that of the value on the top of the stack.\n",
    "    /// Incorrect usage can lead to undefined behavior.\n",
    "    ///\n",
    "    /// # Type Parameters\n",
    "    ///\n",
    "    /// * `T`: The type of the value to pop.\n",
    "    ///\n",
    "    /// # Examples\n",
    "    ///\n",
    "    /// ```\n",
    "    /// let mut stack = RawStack::new();\n",
    "    /// stack.push(100u32);\n",
    "    /// let value: u32 = unsafe { stack.pop() };\n",
    "    /// ```\n",
    "    pub unsafe fn pop<T>(&mut self) -> T {\n",
    "        let p: usize = self.buffer.len() - size_of::<T>();\n",
    "        let result = std::ptr::read(self.buffer.as_ptr().add(p) as *const T);\n",
    "        self.buffer.truncate(p);\n",
    "        result\n",
    "    }\n",
    "}\n",
    "\n",
    "#[cfg(test)]\n",
    "mod tests {\n",
    "    use super::*;\n",
    "\n",
    "    #[test]\n",
    "    fn test_push_pop_u32() {\n",
    "        let mut stack = RawStack::new();\n",
    "        stack.push(10u32);\n",
    "        let result: u32 = unsafe { stack.pop() };\n",
    "        assert_eq!(result, 10);\n",
    "    }\n",
    "\n",
    "    #[test]\n",
    "    fn test_multiple_push_pop() {\n",
    "        let mut stack = RawStack::new();\n",
    "        stack.push(1u32);\n",
    "        stack.push(2u32);\n",
    "        stack.push(3u32);\n",
    "        let v3: u32 = unsafe { stack.pop() };\n",
    "        let v2: u32 = unsafe { stack.pop() };\n",
    "        let v1: u32 = unsafe { stack.pop() };\n",
    "        assert_eq!(v1, 1);\n",
    "        assert_eq!(v2, 2);\n",
    "        assert_eq!(v3, 3);\n",
    "    }\n",
    "\n",
    "    #[test]\n",
    "    fn test_push_pop_different_types() {\n",
    "        let mut stack = RawStack::new();\n",
    "        stack.push(42u32);\n",
    "        stack.push(3.14f64);\n",
    "        let value_f: f64 = unsafe { stack.pop() };\n",
    "        let value_u: u32 = unsafe { stack.pop() };\n",
    "        assert_eq!(value_u, 42);\n",
    "        assert!((value_f - 3.14).abs() < 1e-6);\n",
    "    }\n",
    "}\n",
    "\n",
    "fn main() {\n",
    "    // Example usage:\n",
    "    let mut stack = RawStack::new();\n",
    "\n",
    "    // Push two u32 values.\n",
    "    stack.push(100u32);\n",
    "    stack.push(200u32);\n",
    "\n",
    "    // Pop in LIFO order. The caller must know the correct type.\n",
    "    let value2: u32 = unsafe { stack.pop() };\n",
    "    println!(\"Popped value: {}\", value2); // prints 200\n",
    "\n",
    "    let value1: u32 = unsafe { stack.pop() };\n",
    "    println!(\"Popped value: {}\", value1); // prints 100\n",
    "}\n",
    "\n",
    "main();\n"
   ]
  },
  {
   "cell_type": "markdown",
   "id": "51f5c802",
   "metadata": {},
   "source": [
    "### [Experiment] Calculate the padded size of a `max_align()`ed type.\n"
   ]
  },
  {
   "cell_type": "code",
   "execution_count": 12,
   "id": "29463249",
   "metadata": {
    "vscode": {
     "languageId": "rust"
    }
   },
   "outputs": [],
   "source": [
    "// Helper function to round up size to the next multiple of align.\n",
    "const fn padded_size(size: usize) -> usize {\n",
    "    const ALIGN : usize = max_align();\n",
    "    (size + ALIGN - 1) & !(ALIGN - 1)\n",
    "}\n"
   ]
  },
  {
   "cell_type": "markdown",
   "id": "f23c6301",
   "metadata": {},
   "source": [
    "## RawSequence\n",
    "\n",
    "A raw sequence is a sequence of values of arbitrary types. New values can be pushed onto the sequence, the values can be iterated (by &Ts) to read and iterated to drop each value.\n",
    "To iterate the sequence or drop values, the type of the values must be known. Type information is not stored in the sequence.\n"
   ]
  },
  {
   "cell_type": "markdown",
   "id": "f0526aac",
   "metadata": {},
   "source": [
    "[Experiment] Test complexity of aligned_vec operations\n"
   ]
  },
  {
   "cell_type": "code",
   "execution_count": 13,
   "id": "028406ad",
   "metadata": {
    "vscode": {
     "languageId": "rust"
    }
   },
   "outputs": [
    {
     "name": "stdout",
     "output_type": "stream",
     "text": [
      "1, 8, 131072\n",
      "4, 8, 131072\n",
      "9, 16, 8192\n"
     ]
    }
   ],
   "source": [
    "/// returns the power of 2 that is less than or equal to the given value.\n",
    "fn alignment(i: usize) -> usize {\n",
    "    let mut a = 1;\n",
    "    while ((i + a - 1) & !(a - 1)) == i {\n",
    "        a <<= 1;\n",
    "    }\n",
    "    a\n",
    "}\n",
    "\n",
    "\n",
    "let mut a = AVec::<u8, ConstAlign<4096>>::new(1);\n",
    "\n",
    "a.push(1);\n",
    "println!(\"{}, {}, {}\", a.len(), a.capacity(), alignment(a.as_ptr() as usize));\n",
    "a.push(2);\n",
    "a.push(3);\n",
    "a.push(4);\n",
    "println!(\"{}, {}, {}\", a.len(), a.capacity(), alignment(a.as_ptr() as usize));\n",
    "a.reserve(1);\n",
    "unsafe { a.set_len(5); }\n",
    "a.push(6);\n",
    "a.push(7);\n",
    "a.push(8);\n",
    "a.push(9);\n",
    "println!(\"{}, {}, {}\", a.len(), a.capacity(), alignment(a.as_ptr() as usize));\n"
   ]
  },
  {
   "cell_type": "code",
   "execution_count": 14,
   "id": "e327a53a",
   "metadata": {
    "vscode": {
     "languageId": "rust"
    }
   },
   "outputs": [
    {
     "name": "stdout",
     "output_type": "stream",
     "text": [
      "100\n",
      "200\n",
      "42\n",
      "Hello, world!\n"
     ]
    }
   ],
   "source": [
    "use std::mem;\n",
    "use aligned_vec::{ AVec, ConstAlign };\n",
    "\n",
    "pub struct RawSequence {\n",
    "    buffer: AVec<u8, ConstAlign<4096>>,\n",
    "}\n",
    "\n",
    "const fn truncate_index(align: usize, index: usize) -> usize {\n",
    "    index & !(align - 1)\n",
    "}\n",
    "\n",
    "const fn align_index(align: usize, index: usize) -> usize {\n",
    "    truncate_index(align, index + align - 1)\n",
    "}\n",
    "\n",
    "impl RawSequence {\n",
    "    pub fn new() -> Self {\n",
    "        RawSequence {\n",
    "            buffer: AVec::new(4096),\n",
    "        }\n",
    "    }\n",
    "\n",
    "    // Push a value onto the stack. The value will be stored at an address aligned to max_align().\n",
    "    pub fn push<T>(&mut self, value: T) {\n",
    "        assert!(mem::align_of::<T>() <= 4096);\n",
    "        let len = self.buffer.len();\n",
    "        let aligned : usize = align_index(mem::align_of::<T>(), len);\n",
    "        let new_len = aligned + mem::size_of::<T>();\n",
    "\n",
    "        self.buffer.reserve(new_len - len);\n",
    "        unsafe {\n",
    "            self.buffer.set_len(new_len);\n",
    "            std::ptr::write(self.buffer.as_mut_ptr().add(aligned) as *mut T, value);\n",
    "        }\n",
    "    }\n",
    "\n",
    "    pub unsafe fn drop_in_place<T>(&mut self, p: usize) -> usize {\n",
    "        let aligned : usize = align_index(mem::align_of::<T>(), p);\n",
    "        unsafe { std::ptr::drop_in_place(self.buffer.as_ptr().add(aligned) as *mut T) };\n",
    "        aligned + mem::size_of::<T>()\n",
    "    }\n",
    "\n",
    "    pub unsafe fn next<T>(&self, p: usize) -> (&T, usize) {\n",
    "        let aligned : usize = align_index(mem::align_of::<T>(), p);\n",
    "        let ptr = unsafe { self.buffer.as_ptr().add(aligned) as *const T };\n",
    "        unsafe {(&*ptr, aligned + mem::size_of::<T>())}\n",
    "    }\n",
    "}\n",
    "\n",
    "fn main() {\n",
    "    // Example usage:\n",
    "    let mut stack = RawSequence::new();\n",
    "\n",
    "    stack.push(100u32);\n",
    "    stack.push(200u32);\n",
    "    stack.push(42.0f64);\n",
    "    stack.push(\"Hello, world!\");\n",
    "\n",
    "    let (value, p) = unsafe { stack.next::<u32>(0) };\n",
    "    println!(\"{}\", value);\n",
    "    let (value, p) = unsafe { stack.next::<u32>(p) };\n",
    "    println!(\"{}\", value);\n",
    "    let (value, p) = unsafe { stack.next::<f64>(p) };\n",
    "    println!(\"{}\", value);\n",
    "    let (value, _) = unsafe { stack.next::<&str>(p) };\n",
    "    println!(\"{}\", value);\n",
    "\n",
    "\n",
    "    let p = unsafe { stack.drop_in_place::<u32>(0) };\n",
    "    let p = unsafe { stack.drop_in_place::<u32>(p) };\n",
    "    let p = unsafe { stack.drop_in_place::<f64>(p) };\n",
    "    let _ = unsafe { stack.drop_in_place::<&str>(p) };\n",
    "}\n",
    "\n",
    "main();\n"
   ]
  },
  {
   "cell_type": "markdown",
   "id": "98941d28",
   "metadata": {},
   "source": [
    "## Segment\n",
    "\n",
    "A segment is a sequence of operations that can be executed.\n"
   ]
  },
  {
   "cell_type": "code",
   "execution_count": 32,
   "id": "998823d0",
   "metadata": {
    "vscode": {
     "languageId": "rust"
    }
   },
   "outputs": [],
   "source": [
    "trait Unwrap {\n",
    "    type Result;\n",
    "    fn unwrap(self) -> Self::Result;\n",
    "}\n",
    "\n",
    "impl<T: ConsCell> Unwrap for Seg<((), T)> {\n",
    "    type Result = Seg<(T,)>;\n",
    "    fn unwrap(self) -> Self::Result {\n",
    "        Seg::new()\n",
    "    }\n",
    "}\n",
    "\n",
    "impl<T: ConsCell, A> Unwrap for Seg<((A,), T)> {\n",
    "    type Result = Seg<(A, T)>;\n",
    "    fn unwrap(self) -> Self::Result {\n",
    "        Seg::new()\n",
    "    }\n",
    "}\n",
    "\n",
    "impl<T: ConsCell, A, B> Unwrap for Seg<((A, B), T)> {\n",
    "    type Result = Seg<(A, (B, T))>;\n",
    "    fn unwrap(self) -> Self::Result {\n",
    "        Seg::new()\n",
    "    }\n",
    "}\n",
    "\n",
    "impl<T: ConsCell, A, B, C> Unwrap for Seg<((A, B, C), T)> {\n",
    "    type Result = Seg<(A, (B, (C, T)))>;\n",
    "    fn unwrap(self) -> Self::Result {\n",
    "        Seg::new()\n",
    "    }\n",
    "}\n"
   ]
  },
  {
   "cell_type": "code",
   "execution_count": null,
   "id": "b89b901d",
   "metadata": {
    "vscode": {
     "languageId": "rust"
    }
   },
   "outputs": [],
   "source": [
    "\n",
    "\n",
    "trait ConsCell {\n",
    "    type CAR;\n",
    "    type CDR: ConsCell;\n",
    "    fn len() -> usize;\n",
    "}\n",
    "\n",
    "impl ConsCell for () {\n",
    "    type CAR = ();\n",
    "    type CDR = ();\n",
    "    fn len() -> usize {\n",
    "        0\n",
    "    }\n",
    "}\n",
    "\n",
    "impl<T> ConsCell for (T,) {\n",
    "    type CAR = T;\n",
    "    type CDR = ();\n",
    "    fn len() -> usize {\n",
    "        1\n",
    "    }\n",
    "}\n",
    "\n",
    "impl<T, U> ConsCell for (T, U)\n",
    "where\n",
    "    U: ConsCell\n",
    "{\n",
    "    type CAR = T;\n",
    "    type CDR = U;\n",
    "    fn len() -> usize {\n",
    "        1 + U::len()\n",
    "    }\n",
    "}\n",
    "\n",
    "struct Seg<T> {\n",
    "    _phantom: std::marker::PhantomData<T>,\n",
    "}\n",
    "\n",
    "impl<T> Seg<T> \n",
    "    where T: ConsCell \n",
    "{\n",
    "    fn new() -> Self {\n",
    "        Seg::<T> { _phantom: std::marker::PhantomData }\n",
    "    }\n",
    "\n",
    "    fn drop(self) -> Seg::<T::CDR>\n",
    "    {\n",
    "        Seg::<T::CDR>::new()\n",
    "    }\n",
    "\n",
    "    fn unwrap(self) -> Seg::<\n",
    "\n",
    "    fn push_0<F, R>(self, f: F) -> Seg::<(R, T)>\n",
    "    where\n",
    "        F: Fn () -> R,\n",
    "    {\n",
    "        Seg::<(R, T)>::new()\n",
    "    }\n",
    "\n",
    "    fn push_1<F, R>(self, f: F) -> Seg::<(R, T::CDR)>\n",
    "    where\n",
    "        F: Fn (T::CAR) -> R,\n",
    "    {\n",
    "        Seg::<(R, T::CDR)>::new()\n",
    "    }\n",
    "\n",
    "    fn push_2<F, R>(self, f: F) -> Seg::<(R, <T::CDR as ConsCell>::CDR)>\n",
    "    where\n",
    "        F: Fn (T::CAR, <T::CDR as ConsCell>::CAR) -> R,\n",
    "    {\n",
    "        Seg::<(R, <T::CDR as ConsCell>::CDR)>::new()\n",
    "    }\n",
    "}\n",
    "\n",
    "fn main() {\n",
    "    let s = Seg::<()>::new();\n",
    "    let s = s.push_0(|| 1);\n",
    "    let s = s.push_1(|x| println!(\"{}\", x)).drop();\n",
    "    let s = s.push_0(|| 1);\n",
    "    let s = s.push_1(|x| x + 1);\n",
    "\n",
    "    // This will generate a stack underflow error...\n",
    "\n",
    "    // let s = push_2(s, |x, y| x + y);\n",
    "    //                            ┬  \n",
    "    //                            ╰── no implementation for `{integer} + ()`\n",
    "\n",
    "    let s = s.push_0(|| 1);\n",
    "    let s = s.push_2(|x, y| x + y);\n",
    "    let s = s.push_1(|x| x.to_string());\n",
    "\n",
    "    // This will generate a type mismatch error...\n",
    "    // let s = push_1(s, |x| x + 2);\n",
    "    //                           ^ expected `&str`, found integer\n",
    "\n",
    "    let s = s.push_1(|x| x.parse::<f64>().unwrap());\n",
    "    let s = s.push_1(|x| x * 3.5);\n",
    "}\n"
   ]
  },
  {
   "cell_type": "code",
   "execution_count": 16,
   "id": "b22a87bd",
   "metadata": {
    "vscode": {
     "languageId": "rust"
    }
   },
   "outputs": [],
   "source": [
    "/*\n",
    "\n",
    "trait TupleLen {\n",
    "    const LEN: usize;\n",
    "}\n",
    "\n",
    "impl TupleLen for () {\n",
    "    const LEN: usize = 0;\n",
    "}\n",
    "impl<A> TupleLen for (A,) {\n",
    "    const LEN: usize = 1;\n",
    "}\n",
    "impl<A, B> TupleLen for (A, B) {\n",
    "    const LEN: usize = 2;\n",
    "}\n",
    "\n",
    "trait Arity {\n",
    "    const ARITY: usize;\n",
    "}\n",
    "\n",
    "impl<F, R, T> Arity for F\n",
    "where\n",
    "    F: Fn(T) -> R,\n",
    "{\n",
    "    const ARITY: usize = 1;\n",
    "}\n",
    "\n",
    "fn main() {\n",
    "    println!(\"{}\", <() as TupleLen>::LEN);\n",
    "    println!(\"{}\", <(u32,) as TupleLen>::LEN);\n",
    "    println!(\"{}\", <(u32, f64) as TupleLen>::LEN);\n",
    "}\n",
    "main();\n",
    "*/\n"
   ]
  },
  {
   "cell_type": "code",
   "execution_count": 17,
   "id": "1c283264",
   "metadata": {
    "vscode": {
     "languageId": "rust"
    }
   },
   "outputs": [
    {
     "ename": "Error",
     "evalue": "cannot find value `f` in this scope",
     "output_type": "error",
     "traceback": [
      "\u001b[31m[E0425] Error:\u001b[0m cannot find value `f` in this scope",
      "     \u001b[38;5;246m╭\u001b[0m\u001b[38;5;246m─\u001b[0m\u001b[38;5;246m[\u001b[0mcommand_17:1:1\u001b[38;5;246m]\u001b[0m",
      "     \u001b[38;5;246m│\u001b[0m",
      " \u001b[38;5;246m106 │\u001b[0m \u001b[38;5;249m \u001b[0m\u001b[38;5;249m \u001b[0m\u001b[38;5;249m \u001b[0m\u001b[38;5;249m \u001b[0m\u001b[38;5;249m \u001b[0m\u001b[38;5;249m \u001b[0m\u001b[38;5;249m \u001b[0m\u001b[38;5;249m \u001b[0m\u001b[38;5;54mf\u001b[0m\u001b[38;5;249m.\u001b[0m\u001b[38;5;249mp\u001b[0m\u001b[38;5;249mu\u001b[0m\u001b[38;5;249ms\u001b[0m\u001b[38;5;249mh\u001b[0m\u001b[38;5;249m(\u001b[0m\u001b[38;5;249ms\u001b[0m\u001b[38;5;249me\u001b[0m\u001b[38;5;249ml\u001b[0m\u001b[38;5;249mf\u001b[0m\u001b[38;5;249m)\u001b[0m\u001b[38;5;249m;\u001b[0m",
      " \u001b[38;5;240m    │\u001b[0m         \u001b[38;5;54m┬\u001b[0m  ",
      " \u001b[38;5;240m    │\u001b[0m         \u001b[38;5;54m╰\u001b[0m\u001b[38;5;54m─\u001b[0m\u001b[38;5;54m─\u001b[0m not found in this scope",
      "\u001b[38;5;246m─────╯\u001b[0m"
     ]
    },
    {
     "ename": "Error",
     "evalue": "conflicting implementations of trait `Push`",
     "output_type": "error",
     "traceback": [
      "\u001b[31m[E0119] Error:\u001b[0m conflicting implementations of trait `Push`",
      "    \u001b[38;5;246m╭\u001b[0m\u001b[38;5;246m─\u001b[0m\u001b[38;5;246m[\u001b[0mcommand_17:1:1\u001b[38;5;246m]\u001b[0m",
      "    \u001b[38;5;246m│\u001b[0m",
      " \u001b[38;5;246m13 │\u001b[0m   \u001b[38;5;54m╭\u001b[0m\u001b[38;5;54m─\u001b[0m\u001b[38;5;54m▶\u001b[0m\u001b[38;5;54m \u001b[0m\u001b[38;5;54mi\u001b[0m\u001b[38;5;54mm\u001b[0m\u001b[38;5;54mp\u001b[0m\u001b[38;5;54ml\u001b[0m\u001b[38;5;54m<\u001b[0m\u001b[38;5;54mR\u001b[0m\u001b[38;5;54m,\u001b[0m\u001b[38;5;54m \u001b[0m\u001b[38;5;54mF\u001b[0m\u001b[38;5;54m>\u001b[0m\u001b[38;5;54m \u001b[0m\u001b[38;5;54mP\u001b[0m\u001b[38;5;54mu\u001b[0m\u001b[38;5;54ms\u001b[0m\u001b[38;5;54mh\u001b[0m\u001b[38;5;54m \u001b[0m\u001b[38;5;54mf\u001b[0m\u001b[38;5;54mo\u001b[0m\u001b[38;5;54mr\u001b[0m\u001b[38;5;54m \u001b[0m\u001b[38;5;54mF\u001b[0m",
      " \u001b[38;5;240m   ┆\u001b[0m   \u001b[38;5;54m┆\u001b[0m   ",
      " \u001b[38;5;246m16 │\u001b[0m   \u001b[38;5;54m├\u001b[0m\u001b[38;5;54m─\u001b[0m\u001b[38;5;54m▶\u001b[0m\u001b[38;5;54m \u001b[0m\u001b[38;5;54m \u001b[0m\u001b[38;5;54m \u001b[0m\u001b[38;5;54m \u001b[0m\u001b[38;5;54m \u001b[0m\u001b[38;5;54mR\u001b[0m\u001b[38;5;54m:\u001b[0m\u001b[38;5;54m \u001b[0m\u001b[38;5;54m'\u001b[0m\u001b[38;5;54ms\u001b[0m\u001b[38;5;54mt\u001b[0m\u001b[38;5;54ma\u001b[0m\u001b[38;5;54mt\u001b[0m\u001b[38;5;54mi\u001b[0m\u001b[38;5;54mc\u001b[0m\u001b[38;5;54m,\u001b[0m",
      " \u001b[38;5;240m   │\u001b[0m   \u001b[38;5;54m│\u001b[0m                     ",
      " \u001b[38;5;240m   │\u001b[0m   \u001b[38;5;54m╰\u001b[0m\u001b[38;5;54m─\u001b[0m\u001b[38;5;54m─\u001b[0m\u001b[38;5;54m─\u001b[0m\u001b[38;5;54m─\u001b[0m\u001b[38;5;54m─\u001b[0m\u001b[38;5;54m─\u001b[0m\u001b[38;5;54m─\u001b[0m\u001b[38;5;54m─\u001b[0m\u001b[38;5;54m─\u001b[0m\u001b[38;5;54m─\u001b[0m\u001b[38;5;54m─\u001b[0m\u001b[38;5;54m─\u001b[0m\u001b[38;5;54m─\u001b[0m\u001b[38;5;54m─\u001b[0m\u001b[38;5;54m─\u001b[0m\u001b[38;5;54m─\u001b[0m\u001b[38;5;54m─\u001b[0m\u001b[38;5;54m─\u001b[0m\u001b[38;5;54m─\u001b[0m\u001b[38;5;54m─\u001b[0m\u001b[38;5;54m─\u001b[0m first implementation here",
      " \u001b[38;5;240m   │\u001b[0m ",
      " \u001b[38;5;246m24 │\u001b[0m \u001b[38;5;100m╭\u001b[0m\u001b[38;5;100m─\u001b[0m\u001b[38;5;100m─\u001b[0m\u001b[38;5;100m─\u001b[0m\u001b[38;5;100m▶\u001b[0m\u001b[38;5;100m \u001b[0m\u001b[38;5;100mi\u001b[0m\u001b[38;5;100mm\u001b[0m\u001b[38;5;100mp\u001b[0m\u001b[38;5;100ml\u001b[0m\u001b[38;5;100m<\u001b[0m\u001b[38;5;100mT\u001b[0m\u001b[38;5;100m,\u001b[0m\u001b[38;5;100m \u001b[0m\u001b[38;5;100mR\u001b[0m\u001b[38;5;100m,\u001b[0m\u001b[38;5;100m \u001b[0m\u001b[38;5;100mF\u001b[0m\u001b[38;5;100m>\u001b[0m\u001b[38;5;100m \u001b[0m\u001b[38;5;100mP\u001b[0m\u001b[38;5;100mu\u001b[0m\u001b[38;5;100ms\u001b[0m\u001b[38;5;100mh\u001b[0m\u001b[38;5;100m \u001b[0m\u001b[38;5;100mf\u001b[0m\u001b[38;5;100mo\u001b[0m\u001b[38;5;100mr\u001b[0m\u001b[38;5;100m \u001b[0m\u001b[38;5;100mF\u001b[0m",
      " \u001b[38;5;240m   ┆\u001b[0m \u001b[38;5;100m┆\u001b[0m     ",
      " \u001b[38;5;246m28 │\u001b[0m \u001b[38;5;100m├\u001b[0m\u001b[38;5;100m─\u001b[0m\u001b[38;5;100m─\u001b[0m\u001b[38;5;100m─\u001b[0m\u001b[38;5;100m▶\u001b[0m\u001b[38;5;100m \u001b[0m\u001b[38;5;100m \u001b[0m\u001b[38;5;100m \u001b[0m\u001b[38;5;100m \u001b[0m\u001b[38;5;100m \u001b[0m\u001b[38;5;100mR\u001b[0m\u001b[38;5;100m:\u001b[0m\u001b[38;5;100m \u001b[0m\u001b[38;5;100m'\u001b[0m\u001b[38;5;100ms\u001b[0m\u001b[38;5;100mt\u001b[0m\u001b[38;5;100ma\u001b[0m\u001b[38;5;100mt\u001b[0m\u001b[38;5;100mi\u001b[0m\u001b[38;5;100mc\u001b[0m\u001b[38;5;100m,\u001b[0m",
      " \u001b[38;5;240m   │\u001b[0m \u001b[38;5;100m│\u001b[0m                       ",
      " \u001b[38;5;240m   │\u001b[0m \u001b[38;5;100m╰\u001b[0m\u001b[38;5;100m─\u001b[0m\u001b[38;5;100m─\u001b[0m\u001b[38;5;100m─\u001b[0m\u001b[38;5;100m─\u001b[0m\u001b[38;5;100m─\u001b[0m\u001b[38;5;100m─\u001b[0m\u001b[38;5;100m─\u001b[0m\u001b[38;5;100m─\u001b[0m\u001b[38;5;100m─\u001b[0m\u001b[38;5;100m─\u001b[0m\u001b[38;5;100m─\u001b[0m\u001b[38;5;100m─\u001b[0m\u001b[38;5;100m─\u001b[0m\u001b[38;5;100m─\u001b[0m\u001b[38;5;100m─\u001b[0m\u001b[38;5;100m─\u001b[0m\u001b[38;5;100m─\u001b[0m\u001b[38;5;100m─\u001b[0m\u001b[38;5;100m─\u001b[0m\u001b[38;5;100m─\u001b[0m\u001b[38;5;100m─\u001b[0m\u001b[38;5;100m─\u001b[0m\u001b[38;5;100m─\u001b[0m conflicting implementation",
      "\u001b[38;5;246m────╯\u001b[0m"
     ]
    },
    {
     "ename": "Error",
     "evalue": "conflicting implementations of trait `Push`",
     "output_type": "error",
     "traceback": [
      "\u001b[31m[E0119] Error:\u001b[0m conflicting implementations of trait `Push`",
      "    \u001b[38;5;246m╭\u001b[0m\u001b[38;5;246m─\u001b[0m\u001b[38;5;246m[\u001b[0mcommand_17:1:1\u001b[38;5;246m]\u001b[0m",
      "    \u001b[38;5;246m│\u001b[0m",
      " \u001b[38;5;246m13 │\u001b[0m   \u001b[38;5;54m╭\u001b[0m\u001b[38;5;54m─\u001b[0m\u001b[38;5;54m▶\u001b[0m\u001b[38;5;54m \u001b[0m\u001b[38;5;54mi\u001b[0m\u001b[38;5;54mm\u001b[0m\u001b[38;5;54mp\u001b[0m\u001b[38;5;54ml\u001b[0m\u001b[38;5;54m<\u001b[0m\u001b[38;5;54mR\u001b[0m\u001b[38;5;54m,\u001b[0m\u001b[38;5;54m \u001b[0m\u001b[38;5;54mF\u001b[0m\u001b[38;5;54m>\u001b[0m\u001b[38;5;54m \u001b[0m\u001b[38;5;54mP\u001b[0m\u001b[38;5;54mu\u001b[0m\u001b[38;5;54ms\u001b[0m\u001b[38;5;54mh\u001b[0m\u001b[38;5;54m \u001b[0m\u001b[38;5;54mf\u001b[0m\u001b[38;5;54mo\u001b[0m\u001b[38;5;54mr\u001b[0m\u001b[38;5;54m \u001b[0m\u001b[38;5;54mF\u001b[0m",
      " \u001b[38;5;240m   ┆\u001b[0m   \u001b[38;5;54m┆\u001b[0m   ",
      " \u001b[38;5;246m16 │\u001b[0m   \u001b[38;5;54m├\u001b[0m\u001b[38;5;54m─\u001b[0m\u001b[38;5;54m▶\u001b[0m\u001b[38;5;54m \u001b[0m\u001b[38;5;54m \u001b[0m\u001b[38;5;54m \u001b[0m\u001b[38;5;54m \u001b[0m\u001b[38;5;54m \u001b[0m\u001b[38;5;54mR\u001b[0m\u001b[38;5;54m:\u001b[0m\u001b[38;5;54m \u001b[0m\u001b[38;5;54m'\u001b[0m\u001b[38;5;54ms\u001b[0m\u001b[38;5;54mt\u001b[0m\u001b[38;5;54ma\u001b[0m\u001b[38;5;54mt\u001b[0m\u001b[38;5;54mi\u001b[0m\u001b[38;5;54mc\u001b[0m\u001b[38;5;54m,\u001b[0m",
      " \u001b[38;5;240m   │\u001b[0m   \u001b[38;5;54m│\u001b[0m                     ",
      " \u001b[38;5;240m   │\u001b[0m   \u001b[38;5;54m╰\u001b[0m\u001b[38;5;54m─\u001b[0m\u001b[38;5;54m─\u001b[0m\u001b[38;5;54m─\u001b[0m\u001b[38;5;54m─\u001b[0m\u001b[38;5;54m─\u001b[0m\u001b[38;5;54m─\u001b[0m\u001b[38;5;54m─\u001b[0m\u001b[38;5;54m─\u001b[0m\u001b[38;5;54m─\u001b[0m\u001b[38;5;54m─\u001b[0m\u001b[38;5;54m─\u001b[0m\u001b[38;5;54m─\u001b[0m\u001b[38;5;54m─\u001b[0m\u001b[38;5;54m─\u001b[0m\u001b[38;5;54m─\u001b[0m\u001b[38;5;54m─\u001b[0m\u001b[38;5;54m─\u001b[0m\u001b[38;5;54m─\u001b[0m\u001b[38;5;54m─\u001b[0m\u001b[38;5;54m─\u001b[0m\u001b[38;5;54m─\u001b[0m first implementation here",
      " \u001b[38;5;240m   │\u001b[0m ",
      " \u001b[38;5;246m36 │\u001b[0m \u001b[38;5;100m╭\u001b[0m\u001b[38;5;100m─\u001b[0m\u001b[38;5;100m─\u001b[0m\u001b[38;5;100m─\u001b[0m\u001b[38;5;100m▶\u001b[0m\u001b[38;5;100m \u001b[0m\u001b[38;5;100mi\u001b[0m\u001b[38;5;100mm\u001b[0m\u001b[38;5;100mp\u001b[0m\u001b[38;5;100ml\u001b[0m\u001b[38;5;100m<\u001b[0m\u001b[38;5;100mT\u001b[0m\u001b[38;5;100m,\u001b[0m\u001b[38;5;100m \u001b[0m\u001b[38;5;100mU\u001b[0m\u001b[38;5;100m,\u001b[0m\u001b[38;5;100m \u001b[0m\u001b[38;5;100mR\u001b[0m\u001b[38;5;100m,\u001b[0m\u001b[38;5;100m \u001b[0m\u001b[38;5;100mF\u001b[0m\u001b[38;5;100m>\u001b[0m\u001b[38;5;100m \u001b[0m\u001b[38;5;100mP\u001b[0m\u001b[38;5;100mu\u001b[0m\u001b[38;5;100ms\u001b[0m\u001b[38;5;100mh\u001b[0m\u001b[38;5;100m \u001b[0m\u001b[38;5;100mf\u001b[0m\u001b[38;5;100mo\u001b[0m\u001b[38;5;100mr\u001b[0m\u001b[38;5;100m \u001b[0m\u001b[38;5;100mF\u001b[0m",
      " \u001b[38;5;240m   ┆\u001b[0m \u001b[38;5;100m┆\u001b[0m     ",
      " \u001b[38;5;246m41 │\u001b[0m \u001b[38;5;100m├\u001b[0m\u001b[38;5;100m─\u001b[0m\u001b[38;5;100m─\u001b[0m\u001b[38;5;100m─\u001b[0m\u001b[38;5;100m▶\u001b[0m\u001b[38;5;100m \u001b[0m\u001b[38;5;100m \u001b[0m\u001b[38;5;100m \u001b[0m\u001b[38;5;100m \u001b[0m\u001b[38;5;100m \u001b[0m\u001b[38;5;100mR\u001b[0m\u001b[38;5;100m:\u001b[0m\u001b[38;5;100m \u001b[0m\u001b[38;5;100m'\u001b[0m\u001b[38;5;100ms\u001b[0m\u001b[38;5;100mt\u001b[0m\u001b[38;5;100ma\u001b[0m\u001b[38;5;100mt\u001b[0m\u001b[38;5;100mi\u001b[0m\u001b[38;5;100mc\u001b[0m\u001b[38;5;100m,\u001b[0m",
      " \u001b[38;5;240m   │\u001b[0m \u001b[38;5;100m│\u001b[0m                       ",
      " \u001b[38;5;240m   │\u001b[0m \u001b[38;5;100m╰\u001b[0m\u001b[38;5;100m─\u001b[0m\u001b[38;5;100m─\u001b[0m\u001b[38;5;100m─\u001b[0m\u001b[38;5;100m─\u001b[0m\u001b[38;5;100m─\u001b[0m\u001b[38;5;100m─\u001b[0m\u001b[38;5;100m─\u001b[0m\u001b[38;5;100m─\u001b[0m\u001b[38;5;100m─\u001b[0m\u001b[38;5;100m─\u001b[0m\u001b[38;5;100m─\u001b[0m\u001b[38;5;100m─\u001b[0m\u001b[38;5;100m─\u001b[0m\u001b[38;5;100m─\u001b[0m\u001b[38;5;100m─\u001b[0m\u001b[38;5;100m─\u001b[0m\u001b[38;5;100m─\u001b[0m\u001b[38;5;100m─\u001b[0m\u001b[38;5;100m─\u001b[0m\u001b[38;5;100m─\u001b[0m\u001b[38;5;100m─\u001b[0m\u001b[38;5;100m─\u001b[0m\u001b[38;5;100m─\u001b[0m conflicting implementation",
      "\u001b[38;5;246m────╯\u001b[0m"
     ]
    },
    {
     "ename": "Error",
     "evalue": "conflicting implementations of trait `Push`",
     "output_type": "error",
     "traceback": [
      "\u001b[31m[E0119] Error:\u001b[0m conflicting implementations of trait `Push`",
      "    \u001b[38;5;246m╭\u001b[0m\u001b[38;5;246m─\u001b[0m\u001b[38;5;246m[\u001b[0mcommand_17:1:1\u001b[38;5;246m]\u001b[0m",
      "    \u001b[38;5;246m│\u001b[0m",
      " \u001b[38;5;246m13 │\u001b[0m   \u001b[38;5;54m╭\u001b[0m\u001b[38;5;54m─\u001b[0m\u001b[38;5;54m▶\u001b[0m\u001b[38;5;54m \u001b[0m\u001b[38;5;54mi\u001b[0m\u001b[38;5;54mm\u001b[0m\u001b[38;5;54mp\u001b[0m\u001b[38;5;54ml\u001b[0m\u001b[38;5;54m<\u001b[0m\u001b[38;5;54mR\u001b[0m\u001b[38;5;54m,\u001b[0m\u001b[38;5;54m \u001b[0m\u001b[38;5;54mF\u001b[0m\u001b[38;5;54m>\u001b[0m\u001b[38;5;54m \u001b[0m\u001b[38;5;54mP\u001b[0m\u001b[38;5;54mu\u001b[0m\u001b[38;5;54ms\u001b[0m\u001b[38;5;54mh\u001b[0m\u001b[38;5;54m \u001b[0m\u001b[38;5;54mf\u001b[0m\u001b[38;5;54mo\u001b[0m\u001b[38;5;54mr\u001b[0m\u001b[38;5;54m \u001b[0m\u001b[38;5;54mF\u001b[0m",
      " \u001b[38;5;240m   ┆\u001b[0m   \u001b[38;5;54m┆\u001b[0m   ",
      " \u001b[38;5;246m16 │\u001b[0m   \u001b[38;5;54m├\u001b[0m\u001b[38;5;54m─\u001b[0m\u001b[38;5;54m▶\u001b[0m\u001b[38;5;54m \u001b[0m\u001b[38;5;54m \u001b[0m\u001b[38;5;54m \u001b[0m\u001b[38;5;54m \u001b[0m\u001b[38;5;54m \u001b[0m\u001b[38;5;54mR\u001b[0m\u001b[38;5;54m:\u001b[0m\u001b[38;5;54m \u001b[0m\u001b[38;5;54m'\u001b[0m\u001b[38;5;54ms\u001b[0m\u001b[38;5;54mt\u001b[0m\u001b[38;5;54ma\u001b[0m\u001b[38;5;54mt\u001b[0m\u001b[38;5;54mi\u001b[0m\u001b[38;5;54mc\u001b[0m\u001b[38;5;54m,\u001b[0m",
      " \u001b[38;5;240m   │\u001b[0m   \u001b[38;5;54m│\u001b[0m                     ",
      " \u001b[38;5;240m   │\u001b[0m   \u001b[38;5;54m╰\u001b[0m\u001b[38;5;54m─\u001b[0m\u001b[38;5;54m─\u001b[0m\u001b[38;5;54m─\u001b[0m\u001b[38;5;54m─\u001b[0m\u001b[38;5;54m─\u001b[0m\u001b[38;5;54m─\u001b[0m\u001b[38;5;54m─\u001b[0m\u001b[38;5;54m─\u001b[0m\u001b[38;5;54m─\u001b[0m\u001b[38;5;54m─\u001b[0m\u001b[38;5;54m─\u001b[0m\u001b[38;5;54m─\u001b[0m\u001b[38;5;54m─\u001b[0m\u001b[38;5;54m─\u001b[0m\u001b[38;5;54m─\u001b[0m\u001b[38;5;54m─\u001b[0m\u001b[38;5;54m─\u001b[0m\u001b[38;5;54m─\u001b[0m\u001b[38;5;54m─\u001b[0m\u001b[38;5;54m─\u001b[0m\u001b[38;5;54m─\u001b[0m first implementation here",
      " \u001b[38;5;240m   │\u001b[0m ",
      " \u001b[38;5;246m49 │\u001b[0m \u001b[38;5;100m╭\u001b[0m\u001b[38;5;100m─\u001b[0m\u001b[38;5;100m─\u001b[0m\u001b[38;5;100m─\u001b[0m\u001b[38;5;100m▶\u001b[0m\u001b[38;5;100m \u001b[0m\u001b[38;5;100mi\u001b[0m\u001b[38;5;100mm\u001b[0m\u001b[38;5;100mp\u001b[0m\u001b[38;5;100ml\u001b[0m\u001b[38;5;100m<\u001b[0m\u001b[38;5;100mT\u001b[0m\u001b[38;5;100m,\u001b[0m\u001b[38;5;100m \u001b[0m\u001b[38;5;100mU\u001b[0m\u001b[38;5;100m,\u001b[0m\u001b[38;5;100m \u001b[0m\u001b[38;5;100mV\u001b[0m\u001b[38;5;100m,\u001b[0m\u001b[38;5;100m \u001b[0m\u001b[38;5;100mR\u001b[0m\u001b[38;5;100m,\u001b[0m\u001b[38;5;100m \u001b[0m\u001b[38;5;100mF\u001b[0m\u001b[38;5;100m>\u001b[0m\u001b[38;5;100m \u001b[0m\u001b[38;5;100mP\u001b[0m\u001b[38;5;100mu\u001b[0m\u001b[38;5;100ms\u001b[0m\u001b[38;5;100mh\u001b[0m\u001b[38;5;100m \u001b[0m\u001b[38;5;100mf\u001b[0m\u001b[38;5;100mo\u001b[0m\u001b[38;5;100mr\u001b[0m\u001b[38;5;100m \u001b[0m\u001b[38;5;100mF\u001b[0m",
      " \u001b[38;5;240m   ┆\u001b[0m \u001b[38;5;100m┆\u001b[0m     ",
      " \u001b[38;5;246m55 │\u001b[0m \u001b[38;5;100m├\u001b[0m\u001b[38;5;100m─\u001b[0m\u001b[38;5;100m─\u001b[0m\u001b[38;5;100m─\u001b[0m\u001b[38;5;100m▶\u001b[0m\u001b[38;5;100m \u001b[0m\u001b[38;5;100m \u001b[0m\u001b[38;5;100m \u001b[0m\u001b[38;5;100m \u001b[0m\u001b[38;5;100m \u001b[0m\u001b[38;5;100mR\u001b[0m\u001b[38;5;100m:\u001b[0m\u001b[38;5;100m \u001b[0m\u001b[38;5;100m'\u001b[0m\u001b[38;5;100ms\u001b[0m\u001b[38;5;100mt\u001b[0m\u001b[38;5;100ma\u001b[0m\u001b[38;5;100mt\u001b[0m\u001b[38;5;100mi\u001b[0m\u001b[38;5;100mc\u001b[0m\u001b[38;5;100m,\u001b[0m",
      " \u001b[38;5;240m   │\u001b[0m \u001b[38;5;100m│\u001b[0m                       ",
      " \u001b[38;5;240m   │\u001b[0m \u001b[38;5;100m╰\u001b[0m\u001b[38;5;100m─\u001b[0m\u001b[38;5;100m─\u001b[0m\u001b[38;5;100m─\u001b[0m\u001b[38;5;100m─\u001b[0m\u001b[38;5;100m─\u001b[0m\u001b[38;5;100m─\u001b[0m\u001b[38;5;100m─\u001b[0m\u001b[38;5;100m─\u001b[0m\u001b[38;5;100m─\u001b[0m\u001b[38;5;100m─\u001b[0m\u001b[38;5;100m─\u001b[0m\u001b[38;5;100m─\u001b[0m\u001b[38;5;100m─\u001b[0m\u001b[38;5;100m─\u001b[0m\u001b[38;5;100m─\u001b[0m\u001b[38;5;100m─\u001b[0m\u001b[38;5;100m─\u001b[0m\u001b[38;5;100m─\u001b[0m\u001b[38;5;100m─\u001b[0m\u001b[38;5;100m─\u001b[0m\u001b[38;5;100m─\u001b[0m\u001b[38;5;100m─\u001b[0m\u001b[38;5;100m─\u001b[0m conflicting implementation",
      "\u001b[38;5;246m────╯\u001b[0m"
     ]
    },
    {
     "ename": "Error",
     "evalue": "the type parameter `T` is not constrained by the impl trait, self type, or predicates",
     "output_type": "error",
     "traceback": [
      "\u001b[31m[E0207] Error:\u001b[0m the type parameter `T` is not constrained by the impl trait, self type, or predicates",
      "    \u001b[38;5;246m╭\u001b[0m\u001b[38;5;246m─\u001b[0m\u001b[38;5;246m[\u001b[0mcommand_17:1:1\u001b[38;5;246m]\u001b[0m",
      "    \u001b[38;5;246m│\u001b[0m",
      " \u001b[38;5;246m24 │\u001b[0m \u001b[38;5;249mi\u001b[0m\u001b[38;5;249mm\u001b[0m\u001b[38;5;249mp\u001b[0m\u001b[38;5;249ml\u001b[0m\u001b[38;5;249m<\u001b[0m\u001b[38;5;54mT\u001b[0m\u001b[38;5;249m,\u001b[0m\u001b[38;5;249m \u001b[0m\u001b[38;5;249mR\u001b[0m\u001b[38;5;249m,\u001b[0m\u001b[38;5;249m \u001b[0m\u001b[38;5;249mF\u001b[0m\u001b[38;5;249m>\u001b[0m\u001b[38;5;249m \u001b[0m\u001b[38;5;249mP\u001b[0m\u001b[38;5;249mu\u001b[0m\u001b[38;5;249ms\u001b[0m\u001b[38;5;249mh\u001b[0m\u001b[38;5;249m \u001b[0m\u001b[38;5;249mf\u001b[0m\u001b[38;5;249mo\u001b[0m\u001b[38;5;249mr\u001b[0m\u001b[38;5;249m \u001b[0m\u001b[38;5;249mF\u001b[0m",
      " \u001b[38;5;240m   │\u001b[0m      \u001b[38;5;54m┬\u001b[0m  ",
      " \u001b[38;5;240m   │\u001b[0m      \u001b[38;5;54m╰\u001b[0m\u001b[38;5;54m─\u001b[0m\u001b[38;5;54m─\u001b[0m unconstrained type parameter",
      "\u001b[38;5;246m────╯\u001b[0m"
     ]
    },
    {
     "ename": "Error",
     "evalue": "the type parameter `R` is not constrained by the impl trait, self type, or predicates",
     "output_type": "error",
     "traceback": [
      "\u001b[31m[E0207] Error:\u001b[0m the type parameter `R` is not constrained by the impl trait, self type, or predicates",
      "    \u001b[38;5;246m╭\u001b[0m\u001b[38;5;246m─\u001b[0m\u001b[38;5;246m[\u001b[0mcommand_17:1:1\u001b[38;5;246m]\u001b[0m",
      "    \u001b[38;5;246m│\u001b[0m",
      " \u001b[38;5;246m24 │\u001b[0m \u001b[38;5;249mi\u001b[0m\u001b[38;5;249mm\u001b[0m\u001b[38;5;249mp\u001b[0m\u001b[38;5;249ml\u001b[0m\u001b[38;5;249m<\u001b[0m\u001b[38;5;249mT\u001b[0m\u001b[38;5;249m,\u001b[0m\u001b[38;5;249m \u001b[0m\u001b[38;5;54mR\u001b[0m\u001b[38;5;249m,\u001b[0m\u001b[38;5;249m \u001b[0m\u001b[38;5;249mF\u001b[0m\u001b[38;5;249m>\u001b[0m\u001b[38;5;249m \u001b[0m\u001b[38;5;249mP\u001b[0m\u001b[38;5;249mu\u001b[0m\u001b[38;5;249ms\u001b[0m\u001b[38;5;249mh\u001b[0m\u001b[38;5;249m \u001b[0m\u001b[38;5;249mf\u001b[0m\u001b[38;5;249mo\u001b[0m\u001b[38;5;249mr\u001b[0m\u001b[38;5;249m \u001b[0m\u001b[38;5;249mF\u001b[0m",
      " \u001b[38;5;240m   │\u001b[0m         \u001b[38;5;54m┬\u001b[0m  ",
      " \u001b[38;5;240m   │\u001b[0m         \u001b[38;5;54m╰\u001b[0m\u001b[38;5;54m─\u001b[0m\u001b[38;5;54m─\u001b[0m unconstrained type parameter",
      "\u001b[38;5;246m────╯\u001b[0m"
     ]
    },
    {
     "ename": "Error",
     "evalue": "the type parameter `T` is not constrained by the impl trait, self type, or predicates",
     "output_type": "error",
     "traceback": [
      "\u001b[31m[E0207] Error:\u001b[0m the type parameter `T` is not constrained by the impl trait, self type, or predicates",
      "    \u001b[38;5;246m╭\u001b[0m\u001b[38;5;246m─\u001b[0m\u001b[38;5;246m[\u001b[0mcommand_17:1:1\u001b[38;5;246m]\u001b[0m",
      "    \u001b[38;5;246m│\u001b[0m",
      " \u001b[38;5;246m36 │\u001b[0m \u001b[38;5;249mi\u001b[0m\u001b[38;5;249mm\u001b[0m\u001b[38;5;249mp\u001b[0m\u001b[38;5;249ml\u001b[0m\u001b[38;5;249m<\u001b[0m\u001b[38;5;54mT\u001b[0m\u001b[38;5;249m,\u001b[0m\u001b[38;5;249m \u001b[0m\u001b[38;5;249mU\u001b[0m\u001b[38;5;249m,\u001b[0m\u001b[38;5;249m \u001b[0m\u001b[38;5;249mR\u001b[0m\u001b[38;5;249m,\u001b[0m\u001b[38;5;249m \u001b[0m\u001b[38;5;249mF\u001b[0m\u001b[38;5;249m>\u001b[0m\u001b[38;5;249m \u001b[0m\u001b[38;5;249mP\u001b[0m\u001b[38;5;249mu\u001b[0m\u001b[38;5;249ms\u001b[0m\u001b[38;5;249mh\u001b[0m\u001b[38;5;249m \u001b[0m\u001b[38;5;249mf\u001b[0m\u001b[38;5;249mo\u001b[0m\u001b[38;5;249mr\u001b[0m\u001b[38;5;249m \u001b[0m\u001b[38;5;249mF\u001b[0m",
      " \u001b[38;5;240m   │\u001b[0m      \u001b[38;5;54m┬\u001b[0m  ",
      " \u001b[38;5;240m   │\u001b[0m      \u001b[38;5;54m╰\u001b[0m\u001b[38;5;54m─\u001b[0m\u001b[38;5;54m─\u001b[0m unconstrained type parameter",
      "\u001b[38;5;246m────╯\u001b[0m"
     ]
    },
    {
     "ename": "Error",
     "evalue": "the type parameter `U` is not constrained by the impl trait, self type, or predicates",
     "output_type": "error",
     "traceback": [
      "\u001b[31m[E0207] Error:\u001b[0m the type parameter `U` is not constrained by the impl trait, self type, or predicates",
      "    \u001b[38;5;246m╭\u001b[0m\u001b[38;5;246m─\u001b[0m\u001b[38;5;246m[\u001b[0mcommand_17:1:1\u001b[38;5;246m]\u001b[0m",
      "    \u001b[38;5;246m│\u001b[0m",
      " \u001b[38;5;246m36 │\u001b[0m \u001b[38;5;249mi\u001b[0m\u001b[38;5;249mm\u001b[0m\u001b[38;5;249mp\u001b[0m\u001b[38;5;249ml\u001b[0m\u001b[38;5;249m<\u001b[0m\u001b[38;5;249mT\u001b[0m\u001b[38;5;249m,\u001b[0m\u001b[38;5;249m \u001b[0m\u001b[38;5;54mU\u001b[0m\u001b[38;5;249m,\u001b[0m\u001b[38;5;249m \u001b[0m\u001b[38;5;249mR\u001b[0m\u001b[38;5;249m,\u001b[0m\u001b[38;5;249m \u001b[0m\u001b[38;5;249mF\u001b[0m\u001b[38;5;249m>\u001b[0m\u001b[38;5;249m \u001b[0m\u001b[38;5;249mP\u001b[0m\u001b[38;5;249mu\u001b[0m\u001b[38;5;249ms\u001b[0m\u001b[38;5;249mh\u001b[0m\u001b[38;5;249m \u001b[0m\u001b[38;5;249mf\u001b[0m\u001b[38;5;249mo\u001b[0m\u001b[38;5;249mr\u001b[0m\u001b[38;5;249m \u001b[0m\u001b[38;5;249mF\u001b[0m",
      " \u001b[38;5;240m   │\u001b[0m         \u001b[38;5;54m┬\u001b[0m  ",
      " \u001b[38;5;240m   │\u001b[0m         \u001b[38;5;54m╰\u001b[0m\u001b[38;5;54m─\u001b[0m\u001b[38;5;54m─\u001b[0m unconstrained type parameter",
      "\u001b[38;5;246m────╯\u001b[0m"
     ]
    },
    {
     "ename": "Error",
     "evalue": "the type parameter `R` is not constrained by the impl trait, self type, or predicates",
     "output_type": "error",
     "traceback": [
      "\u001b[31m[E0207] Error:\u001b[0m the type parameter `R` is not constrained by the impl trait, self type, or predicates",
      "    \u001b[38;5;246m╭\u001b[0m\u001b[38;5;246m─\u001b[0m\u001b[38;5;246m[\u001b[0mcommand_17:1:1\u001b[38;5;246m]\u001b[0m",
      "    \u001b[38;5;246m│\u001b[0m",
      " \u001b[38;5;246m36 │\u001b[0m \u001b[38;5;249mi\u001b[0m\u001b[38;5;249mm\u001b[0m\u001b[38;5;249mp\u001b[0m\u001b[38;5;249ml\u001b[0m\u001b[38;5;249m<\u001b[0m\u001b[38;5;249mT\u001b[0m\u001b[38;5;249m,\u001b[0m\u001b[38;5;249m \u001b[0m\u001b[38;5;249mU\u001b[0m\u001b[38;5;249m,\u001b[0m\u001b[38;5;249m \u001b[0m\u001b[38;5;54mR\u001b[0m\u001b[38;5;249m,\u001b[0m\u001b[38;5;249m \u001b[0m\u001b[38;5;249mF\u001b[0m\u001b[38;5;249m>\u001b[0m\u001b[38;5;249m \u001b[0m\u001b[38;5;249mP\u001b[0m\u001b[38;5;249mu\u001b[0m\u001b[38;5;249ms\u001b[0m\u001b[38;5;249mh\u001b[0m\u001b[38;5;249m \u001b[0m\u001b[38;5;249mf\u001b[0m\u001b[38;5;249mo\u001b[0m\u001b[38;5;249mr\u001b[0m\u001b[38;5;249m \u001b[0m\u001b[38;5;249mF\u001b[0m",
      " \u001b[38;5;240m   │\u001b[0m            \u001b[38;5;54m┬\u001b[0m  ",
      " \u001b[38;5;240m   │\u001b[0m            \u001b[38;5;54m╰\u001b[0m\u001b[38;5;54m─\u001b[0m\u001b[38;5;54m─\u001b[0m unconstrained type parameter",
      "\u001b[38;5;246m────╯\u001b[0m"
     ]
    },
    {
     "ename": "Error",
     "evalue": "the type parameter `T` is not constrained by the impl trait, self type, or predicates",
     "output_type": "error",
     "traceback": [
      "\u001b[31m[E0207] Error:\u001b[0m the type parameter `T` is not constrained by the impl trait, self type, or predicates",
      "    \u001b[38;5;246m╭\u001b[0m\u001b[38;5;246m─\u001b[0m\u001b[38;5;246m[\u001b[0mcommand_17:1:1\u001b[38;5;246m]\u001b[0m",
      "    \u001b[38;5;246m│\u001b[0m",
      " \u001b[38;5;246m49 │\u001b[0m \u001b[38;5;249mi\u001b[0m\u001b[38;5;249mm\u001b[0m\u001b[38;5;249mp\u001b[0m\u001b[38;5;249ml\u001b[0m\u001b[38;5;249m<\u001b[0m\u001b[38;5;54mT\u001b[0m\u001b[38;5;249m,\u001b[0m\u001b[38;5;249m \u001b[0m\u001b[38;5;249mU\u001b[0m\u001b[38;5;249m,\u001b[0m\u001b[38;5;249m \u001b[0m\u001b[38;5;249mV\u001b[0m\u001b[38;5;249m,\u001b[0m\u001b[38;5;249m \u001b[0m\u001b[38;5;249mR\u001b[0m\u001b[38;5;249m,\u001b[0m\u001b[38;5;249m \u001b[0m\u001b[38;5;249mF\u001b[0m\u001b[38;5;249m>\u001b[0m\u001b[38;5;249m \u001b[0m\u001b[38;5;249mP\u001b[0m\u001b[38;5;249mu\u001b[0m\u001b[38;5;249ms\u001b[0m\u001b[38;5;249mh\u001b[0m\u001b[38;5;249m \u001b[0m\u001b[38;5;249mf\u001b[0m\u001b[38;5;249mo\u001b[0m\u001b[38;5;249mr\u001b[0m\u001b[38;5;249m \u001b[0m\u001b[38;5;249mF\u001b[0m",
      " \u001b[38;5;240m   │\u001b[0m      \u001b[38;5;54m┬\u001b[0m  ",
      " \u001b[38;5;240m   │\u001b[0m      \u001b[38;5;54m╰\u001b[0m\u001b[38;5;54m─\u001b[0m\u001b[38;5;54m─\u001b[0m unconstrained type parameter",
      "\u001b[38;5;246m────╯\u001b[0m"
     ]
    },
    {
     "ename": "Error",
     "evalue": "the type parameter `U` is not constrained by the impl trait, self type, or predicates",
     "output_type": "error",
     "traceback": [
      "\u001b[31m[E0207] Error:\u001b[0m the type parameter `U` is not constrained by the impl trait, self type, or predicates",
      "    \u001b[38;5;246m╭\u001b[0m\u001b[38;5;246m─\u001b[0m\u001b[38;5;246m[\u001b[0mcommand_17:1:1\u001b[38;5;246m]\u001b[0m",
      "    \u001b[38;5;246m│\u001b[0m",
      " \u001b[38;5;246m49 │\u001b[0m \u001b[38;5;249mi\u001b[0m\u001b[38;5;249mm\u001b[0m\u001b[38;5;249mp\u001b[0m\u001b[38;5;249ml\u001b[0m\u001b[38;5;249m<\u001b[0m\u001b[38;5;249mT\u001b[0m\u001b[38;5;249m,\u001b[0m\u001b[38;5;249m \u001b[0m\u001b[38;5;54mU\u001b[0m\u001b[38;5;249m,\u001b[0m\u001b[38;5;249m \u001b[0m\u001b[38;5;249mV\u001b[0m\u001b[38;5;249m,\u001b[0m\u001b[38;5;249m \u001b[0m\u001b[38;5;249mR\u001b[0m\u001b[38;5;249m,\u001b[0m\u001b[38;5;249m \u001b[0m\u001b[38;5;249mF\u001b[0m\u001b[38;5;249m>\u001b[0m\u001b[38;5;249m \u001b[0m\u001b[38;5;249mP\u001b[0m\u001b[38;5;249mu\u001b[0m\u001b[38;5;249ms\u001b[0m\u001b[38;5;249mh\u001b[0m\u001b[38;5;249m \u001b[0m\u001b[38;5;249mf\u001b[0m\u001b[38;5;249mo\u001b[0m\u001b[38;5;249mr\u001b[0m\u001b[38;5;249m \u001b[0m\u001b[38;5;249mF\u001b[0m",
      " \u001b[38;5;240m   │\u001b[0m         \u001b[38;5;54m┬\u001b[0m  ",
      " \u001b[38;5;240m   │\u001b[0m         \u001b[38;5;54m╰\u001b[0m\u001b[38;5;54m─\u001b[0m\u001b[38;5;54m─\u001b[0m unconstrained type parameter",
      "\u001b[38;5;246m────╯\u001b[0m"
     ]
    },
    {
     "ename": "Error",
     "evalue": "the type parameter `V` is not constrained by the impl trait, self type, or predicates",
     "output_type": "error",
     "traceback": [
      "\u001b[31m[E0207] Error:\u001b[0m the type parameter `V` is not constrained by the impl trait, self type, or predicates",
      "    \u001b[38;5;246m╭\u001b[0m\u001b[38;5;246m─\u001b[0m\u001b[38;5;246m[\u001b[0mcommand_17:1:1\u001b[38;5;246m]\u001b[0m",
      "    \u001b[38;5;246m│\u001b[0m",
      " \u001b[38;5;246m49 │\u001b[0m \u001b[38;5;249mi\u001b[0m\u001b[38;5;249mm\u001b[0m\u001b[38;5;249mp\u001b[0m\u001b[38;5;249ml\u001b[0m\u001b[38;5;249m<\u001b[0m\u001b[38;5;249mT\u001b[0m\u001b[38;5;249m,\u001b[0m\u001b[38;5;249m \u001b[0m\u001b[38;5;249mU\u001b[0m\u001b[38;5;249m,\u001b[0m\u001b[38;5;249m \u001b[0m\u001b[38;5;54mV\u001b[0m\u001b[38;5;249m,\u001b[0m\u001b[38;5;249m \u001b[0m\u001b[38;5;249mR\u001b[0m\u001b[38;5;249m,\u001b[0m\u001b[38;5;249m \u001b[0m\u001b[38;5;249mF\u001b[0m\u001b[38;5;249m>\u001b[0m\u001b[38;5;249m \u001b[0m\u001b[38;5;249mP\u001b[0m\u001b[38;5;249mu\u001b[0m\u001b[38;5;249ms\u001b[0m\u001b[38;5;249mh\u001b[0m\u001b[38;5;249m \u001b[0m\u001b[38;5;249mf\u001b[0m\u001b[38;5;249mo\u001b[0m\u001b[38;5;249mr\u001b[0m\u001b[38;5;249m \u001b[0m\u001b[38;5;249mF\u001b[0m",
      " \u001b[38;5;240m   │\u001b[0m            \u001b[38;5;54m┬\u001b[0m  ",
      " \u001b[38;5;240m   │\u001b[0m            \u001b[38;5;54m╰\u001b[0m\u001b[38;5;54m─\u001b[0m\u001b[38;5;54m─\u001b[0m unconstrained type parameter",
      "\u001b[38;5;246m────╯\u001b[0m"
     ]
    },
    {
     "ename": "Error",
     "evalue": "the type parameter `R` is not constrained by the impl trait, self type, or predicates",
     "output_type": "error",
     "traceback": [
      "\u001b[31m[E0207] Error:\u001b[0m the type parameter `R` is not constrained by the impl trait, self type, or predicates",
      "    \u001b[38;5;246m╭\u001b[0m\u001b[38;5;246m─\u001b[0m\u001b[38;5;246m[\u001b[0mcommand_17:1:1\u001b[38;5;246m]\u001b[0m",
      "    \u001b[38;5;246m│\u001b[0m",
      " \u001b[38;5;246m49 │\u001b[0m \u001b[38;5;249mi\u001b[0m\u001b[38;5;249mm\u001b[0m\u001b[38;5;249mp\u001b[0m\u001b[38;5;249ml\u001b[0m\u001b[38;5;249m<\u001b[0m\u001b[38;5;249mT\u001b[0m\u001b[38;5;249m,\u001b[0m\u001b[38;5;249m \u001b[0m\u001b[38;5;249mU\u001b[0m\u001b[38;5;249m,\u001b[0m\u001b[38;5;249m \u001b[0m\u001b[38;5;249mV\u001b[0m\u001b[38;5;249m,\u001b[0m\u001b[38;5;249m \u001b[0m\u001b[38;5;54mR\u001b[0m\u001b[38;5;249m,\u001b[0m\u001b[38;5;249m \u001b[0m\u001b[38;5;249mF\u001b[0m\u001b[38;5;249m>\u001b[0m\u001b[38;5;249m \u001b[0m\u001b[38;5;249mP\u001b[0m\u001b[38;5;249mu\u001b[0m\u001b[38;5;249ms\u001b[0m\u001b[38;5;249mh\u001b[0m\u001b[38;5;249m \u001b[0m\u001b[38;5;249mf\u001b[0m\u001b[38;5;249mo\u001b[0m\u001b[38;5;249mr\u001b[0m\u001b[38;5;249m \u001b[0m\u001b[38;5;249mF\u001b[0m",
      " \u001b[38;5;240m   │\u001b[0m               \u001b[38;5;54m┬\u001b[0m  ",
      " \u001b[38;5;240m   │\u001b[0m               \u001b[38;5;54m╰\u001b[0m\u001b[38;5;54m─\u001b[0m\u001b[38;5;54m─\u001b[0m unconstrained type parameter",
      "\u001b[38;5;246m────╯\u001b[0m"
     ]
    },
    {
     "ename": "Error",
     "evalue": "unused variable: `t`",
     "output_type": "error",
     "traceback": [
      "\u001b[31m[unused_variables] Error:\u001b[0m unused variable: `t`"
     ]
    },
    {
     "ename": "Error",
     "evalue": "unused variable: `f`",
     "output_type": "error",
     "traceback": [
      "\u001b[31m[unused_variables] Error:\u001b[0m unused variable: `f`"
     ]
    },
    {
     "ename": "Error",
     "evalue": "unused variable: `t`",
     "output_type": "error",
     "traceback": [
      "\u001b[31m[unused_variables] Error:\u001b[0m unused variable: `t`"
     ]
    },
    {
     "ename": "Error",
     "evalue": "unused variable: `f`",
     "output_type": "error",
     "traceback": [
      "\u001b[31m[unused_variables] Error:\u001b[0m unused variable: `f`"
     ]
    },
    {
     "ename": "Error",
     "evalue": "unused variable: `t`",
     "output_type": "error",
     "traceback": [
      "\u001b[31m[unused_variables] Error:\u001b[0m unused variable: `t`"
     ]
    },
    {
     "ename": "Error",
     "evalue": "unused variable: `f`",
     "output_type": "error",
     "traceback": [
      "\u001b[31m[unused_variables] Error:\u001b[0m unused variable: `f`"
     ]
    }
   ],
   "source": [
    "use std::any::TypeId;\n",
    "\n",
    "type Operation = fn(&RawSequence, usize, &mut RawStack) -> usize;\n",
    "\n",
    "struct Segment;\n",
    "\n",
    "trait Push {\n",
    "    fn push(self, segment: &mut Segment);\n",
    "}\n",
    "\n",
    "\n",
    "// For zero-argument functions:\n",
    "impl<R, F> Push for F\n",
    "where\n",
    "    F: Fn() -> R + 'static,\n",
    "    R: 'static,\n",
    "{\n",
    "    fn push(self, segment: &mut Segment) {\n",
    "        segment.push_op0(self);\n",
    "    }\n",
    "}\n",
    "\n",
    "// For one-argument functions:\n",
    "impl<T, R, F> Push for F\n",
    "where\n",
    "    F: Fn(T) -> R + 'static,\n",
    "    T: 'static,\n",
    "    R: 'static,\n",
    "{\n",
    "    fn push(self, segment: &mut Segment) {\n",
    "        segment.push_op1(self);\n",
    "    }\n",
    "}\n",
    "\n",
    "// For two-argument functions:\n",
    "impl<T, U, R, F> Push for F\n",
    "where\n",
    "    F: Fn(T, U) -> R + 'static,\n",
    "    T: 'static,\n",
    "    U: 'static,\n",
    "    R: 'static,\n",
    "{\n",
    "    fn push(self, segment: &mut Segment) {\n",
    "        segment.push_op2(self);\n",
    "    }\n",
    "}\n",
    "\n",
    "// For three-argument functions:\n",
    "impl<T, U, V, R, F> Push for F\n",
    "where\n",
    "    F: Fn(T, U, V) -> R + 'static,\n",
    "    T: 'static,\n",
    "    U: 'static,\n",
    "    V: 'static,\n",
    "    R: 'static,\n",
    "{\n",
    "    fn push(self, segment: &mut Segment) {\n",
    "        segment.push_op3(self);\n",
    "    }\n",
    "}\n",
    "\n",
    "pub struct Segment {\n",
    "    ops: Vec<Operation>,\n",
    "    storage: RawSequence,\n",
    "    dropper: Vec<fn(&mut RawSequence, usize) -> usize>,\n",
    "    type_ids: Vec<TypeId>,\n",
    "}\n",
    "\n",
    "impl Segment {\n",
    "    pub fn new() -> Self {\n",
    "        Segment {\n",
    "            ops: Vec::new(),\n",
    "            storage: RawSequence::new(),\n",
    "            dropper: Vec::new(),\n",
    "            type_ids: Vec::new(),\n",
    "        }\n",
    "    }\n",
    "\n",
    "    fn pop_type<T>(&mut self)\n",
    "    where\n",
    "        T: 'static,\n",
    "    {\n",
    "        match self.type_ids.pop() {\n",
    "            Some(tid) if tid == TypeId::of::<T>() => {}\n",
    "            _ => {\n",
    "                panic!(\n",
    "                    \"Type mismatch: expected {}\", std::any::type_name::<T>());\n",
    "            }\n",
    "        }\n",
    "    }\n",
    "\n",
    "    fn push_storage<T>(&mut self, value: T)\n",
    "    where\n",
    "        T: 'static,\n",
    "    {\n",
    "        self.storage.push(value);\n",
    "        self.dropper.push(|storage, p| {\n",
    "            unsafe { storage.drop_in_place::<T>(p) }\n",
    "        });\n",
    "    }\n",
    "\n",
    "    pub fn push_op<F>(&mut self, op: F)\n",
    "    where\n",
    "        F: Push + 'static,\n",
    "    {\n",
    "        f.push(self);\n",
    "    }\n",
    "\n",
    "    pub fn push_op0<R, F>(&mut self, op: F)\n",
    "    where\n",
    "        F: Fn() -> R + 'static,\n",
    "        R: 'static,\n",
    "    {\n",
    "        self.push_storage(op);\n",
    "        self.ops.push(|storage, p, stack| {\n",
    "            let (f, r) = unsafe { storage.next::<F>(p) };\n",
    "            stack.push(f());\n",
    "            r\n",
    "        });\n",
    "        self.type_ids.push(TypeId::of::<R>());\n",
    "    }\n",
    "\n",
    "    pub fn push_op1<T, R, F>(&mut self, op: F)\n",
    "    where\n",
    "        F: Fn(T) -> R + 'static,\n",
    "        T: 'static,\n",
    "        R: 'static,\n",
    "    {\n",
    "        self.pop_type::<T>();\n",
    "        self.push_storage(op);\n",
    "        self.ops.push(|storage, p, stack| {\n",
    "            let (f, r) = unsafe { storage.next::<F>(p) };\n",
    "            let x: T = unsafe { stack.pop() };\n",
    "            stack.push(f(x));\n",
    "            r\n",
    "        });\n",
    "        self.type_ids.push(TypeId::of::<R>());\n",
    "    }\n",
    "\n",
    "    pub fn push_op2<T, U, R, F>(&mut self, op: F)\n",
    "    where\n",
    "        F: Fn(T, U) -> R + 'static,\n",
    "        T: 'static,\n",
    "        U: 'static,\n",
    "        R: 'static,\n",
    "    {\n",
    "        self.pop_type::<U>();\n",
    "        self.pop_type::<T>();\n",
    "        self.push_storage(op);\n",
    "        self.ops.push(|storage, p, stack| {\n",
    "            let (f, r) = unsafe { storage.next::<F>(p) };\n",
    "            let y: U = unsafe { stack.pop() };\n",
    "            let x: T = unsafe { stack.pop() };\n",
    "            stack.push(f(x, y));\n",
    "            r\n",
    "        });\n",
    "        self.type_ids.push(TypeId::of::<R>());\n",
    "    }\n",
    "\n",
    "    pub fn push_op3<T, U, V, R, F>(&mut self, op: F)\n",
    "    where\n",
    "        F: Fn(T, U, V) -> R + 'static,\n",
    "        T: 'static,\n",
    "        U: 'static,\n",
    "        V: 'static,\n",
    "        R: 'static,\n",
    "    {\n",
    "        self.pop_type::<V>();\n",
    "        self.pop_type::<U>();\n",
    "        self.pop_type::<T>();\n",
    "        self.push_storage(op);\n",
    "        self.ops.push(|storage, p, stack| {\n",
    "            let (f, r) = unsafe { storage.next::<F>(p) };\n",
    "            let z: V = unsafe { stack.pop() };\n",
    "            let y: U = unsafe { stack.pop() };\n",
    "            let x: T = unsafe { stack.pop() };\n",
    "            stack.push(f(x, y, z));\n",
    "            r\n",
    "        });\n",
    "        self.type_ids.push(TypeId::of::<R>());\n",
    "    }\n",
    "\n",
    "    pub fn drop(&mut self) {\n",
    "        let mut p = 0;\n",
    "        for e in self.dropper.iter() {\n",
    "            p = e(&mut self.storage, p);\n",
    "        }\n",
    "        assert!(self.storage.buffer.len() == 0, \"Storage not empty\");\n",
    "    }\n",
    "\n",
    "    pub fn run<T>(&mut self) -> T\n",
    "        where T: 'static \n",
    "    {\n",
    "        self.pop_type::<T>();\n",
    "        if self.type_ids.len() != 0 {\n",
    "            panic!(\"Value(s) left on execution stack\");\n",
    "        }\n",
    "\n",
    "        let mut stack = RawStack::new();\n",
    "        let mut p = 0;\n",
    "        for op in self.ops.iter() {\n",
    "            p = op(&self.storage, p, &mut stack);\n",
    "        }\n",
    "        unsafe { stack.pop() }\n",
    "    }\n",
    "}\n",
    "\n",
    "fn main() {\n",
    "    // Create a vector for stack operations.\n",
    "    let mut operations = Segment::new();\n",
    "\n",
    "    // Add a binary operation (addition).\n",
    "    operations.push_op(|| -> u32 { 30 });\n",
    "    operations.push_op(|| -> u32 { 12 });\n",
    "    operations.push_op(|x: u32, y: u32| -> u32 { x + y });\n",
    "    operations.push_op(|| -> u32 { 100 });\n",
    "    operations.push_op(|| -> u32 { 10 });\n",
    "    // Add a ternary operation (x + y - z).\n",
    "    operations.push_op(|x: u32, y: u32, z: u32| -> u32 { x + y - z });\n",
    "    operations.push_op(|x: u32| -> String { format!(\"result: {}\", x.to_string()) });\n",
    "\n",
    "    let final_result: String = operations.run();\n",
    "    println!(\"{}\", final_result);\n",
    "}\n",
    "\n",
    "main();\n"
   ]
  },
  {
   "cell_type": "markdown",
   "id": "2b317b0a",
   "metadata": {},
   "source": [
    "A simple parser for the following grammar in Rust:\n",
    "\n",
    "```ebnf\n",
    "expression = number, {(\"+\" | \"-\"), number};\n",
    "number = digit, {digit};\n",
    "```\n"
   ]
  },
  {
   "cell_type": "code",
   "execution_count": null,
   "id": "9795bf22",
   "metadata": {
    "vscode": {
     "languageId": "rust"
    }
   },
   "outputs": [],
   "source": [
    "use std::iter::Peekable;\n",
    "use std::str::Chars;\n",
    "\n",
    "#[derive(Debug, PartialEq)]\n",
    "enum Token {\n",
    "    Number(i32),\n",
    "    Plus,\n",
    "    Minus,\n",
    "}\n",
    "\n",
    "struct Lexer<'a> {\n",
    "    input: Peekable<Chars<'a>>,\n",
    "}\n",
    "\n",
    "impl<'a> Lexer<'a> {\n",
    "    fn new(expr: &'a str) -> Self {\n",
    "        Lexer {\n",
    "            input: expr.chars().peekable(),\n",
    "        }\n",
    "    }\n",
    "\n",
    "    fn next_token(&mut self) -> Option<Token> {\n",
    "        self.skip_whitespace();\n",
    "        let ch = self.input.peek()?;\n",
    "        if ch.is_digit(10) {\n",
    "            return Some(Token::Number(self.next_number()));\n",
    "        }\n",
    "        match self.input.next()? {\n",
    "            '+' => Some(Token::Plus),\n",
    "            '-' => Some(Token::Minus),\n",
    "            _   => None,\n",
    "        }\n",
    "    }\n",
    "\n",
    "    fn next_number(&mut self) -> i32 {\n",
    "        let mut num_str = String::new();\n",
    "        while let Some(&ch) = self.input.peek() {\n",
    "            if ch.is_digit(10) {\n",
    "                num_str.push(ch);\n",
    "                self.input.next();\n",
    "            } else {\n",
    "                break;\n",
    "            }\n",
    "        }\n",
    "        num_str.parse().unwrap()\n",
    "    }\n",
    "\n",
    "    fn skip_whitespace(&mut self) {\n",
    "        while let Some(&ch) = self.input.peek() {\n",
    "            if ch.is_whitespace() {\n",
    "                self.input.next();\n",
    "            } else {\n",
    "                break;\n",
    "            }\n",
    "        }\n",
    "    }\n",
    "}\n",
    "\n",
    "struct Parser<'a> {\n",
    "    lexer: Lexer<'a>,\n",
    "    current_token: Option<Token>,\n",
    "    operations: Segment\n",
    "}\n",
    "\n",
    "impl<'a> Parser<'a> {\n",
    "    fn new(expr: &'a str) -> Self {\n",
    "        let mut lexer = Lexer::new(expr);\n",
    "        let current_token = lexer.next_token();\n",
    "        Parser { lexer, current_token, operations: Segment::new() }\n",
    "    }\n",
    "\n",
    "    fn parse_expression(&mut self) {\n",
    "        // Parse the left number.\n",
    "        let left = match self.current_token.take() {\n",
    "            Some(Token::Number(n)) => n,\n",
    "            _ => panic!(\"Expected a number at the beginning\"),\n",
    "        };\n",
    "\n",
    "        self.operations.push_op0(move || left);\n",
    "\n",
    "        // Get the optional operator.\n",
    "        let op = self.lexer.next_token();\n",
    "\n",
    "        // If there is an operator, parse the second number.\n",
    "        if let Some(tok) = op {\n",
    "            let right = match self.lexer.next_token() {\n",
    "                Some(Token::Number(n)) => n,\n",
    "                _ => panic!(\"Expected a number after operator\"),\n",
    "            };\n",
    "            self.operations.push_op0(move || right);\n",
    "\n",
    "            match tok {\n",
    "                Token::Plus => self.operations.push_op2(move |x: i32, y: i32| x + y),\n",
    "                Token::Minus => self.operations.push_op2(move |x: i32, y: i32| x - y),\n",
    "                _ => panic!(\"Unexpected token\"),\n",
    "            }\n",
    "        } \n",
    "    }\n",
    "\n",
    "    fn run<T>(&mut self) -> T\n",
    "        where T: 'static \n",
    "    {\n",
    "        self.operations.run()\n",
    "    }\n",
    "}\n",
    "\n",
    "fn main() {\n",
    "    let expr = r#\"\n",
    "        12 + 34\n",
    "    \"#;\n",
    "    let mut parser = Parser::new(expr);\n",
    "    parser.parse_expression();\n",
    "    let result: i32 = parser.run();\n",
    "    println!(\"Result of {} = {}\", expr, result);\n",
    "}\n",
    "\n",
    "main();\n"
   ]
  },
  {
   "cell_type": "code",
   "execution_count": null,
   "id": "ff0a25ec",
   "metadata": {
    "vscode": {
     "languageId": "rust"
    }
   },
   "outputs": [],
   "source": [
    "struct VTable<T> {\n",
    "    value: T,\n",
    "}\n",
    "\n",
    "impl<T> VTable<T> {\n",
    "    fn new(value: T) -> Self {\n",
    "        VTable {\n",
    "            value: value,\n",
    "        }\n",
    "    }\n",
    "    pub const INVOKE: fn () = || {\n",
    "        println!(\"Hello, world! {}\", std::any::type_name::<T>());\n",
    "    };\n",
    "}\n",
    "\n",
    "fn main() {\n",
    "    let fp: fn() = VTable::<i32>::INVOKE;\n",
    "    fp();\n",
    "\n",
    "    let captured_closure = || println!(\"Testing\");\n",
    "\n",
    "    // Measure the size of the closure’s capture state.\n",
    "    let size = std::mem::size_of_val(&captured_closure);\n",
    "    println!(\"Closure size = {}\", size);\n",
    "}\n",
    "\n",
    "main();\n"
   ]
  }
 ],
 "metadata": {
  "kernelspec": {
   "display_name": "Rust",
   "language": "rust",
   "name": "rust"
  },
  "language_info": {
   "codemirror_mode": "rust",
   "file_extension": ".rs",
   "mimetype": "text/rust",
   "name": "Rust",
   "pygment_lexer": "rust",
   "version": ""
  }
 },
 "nbformat": 4,
 "nbformat_minor": 5
}
